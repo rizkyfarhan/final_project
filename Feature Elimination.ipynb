{
 "cells": [
  {
   "cell_type": "code",
   "execution_count": 31,
   "metadata": {},
   "outputs": [],
   "source": [
    "import numpy as np\n",
    "import pandas as pd\n",
    "import seaborn as sns\n",
    "import matplotlib.pyplot as plt\n",
    "%matplotlib inline"
   ]
  },
  {
   "cell_type": "code",
   "execution_count": 32,
   "metadata": {},
   "outputs": [],
   "source": [
    "data = pd.read_csv('labeled_data.csv')"
   ]
  },
  {
   "cell_type": "code",
   "execution_count": 33,
   "metadata": {},
   "outputs": [
    {
     "data": {
      "text/html": [
       "<div>\n",
       "<style scoped>\n",
       "    .dataframe tbody tr th:only-of-type {\n",
       "        vertical-align: middle;\n",
       "    }\n",
       "\n",
       "    .dataframe tbody tr th {\n",
       "        vertical-align: top;\n",
       "    }\n",
       "\n",
       "    .dataframe thead th {\n",
       "        text-align: right;\n",
       "    }\n",
       "</style>\n",
       "<table border=\"1\" class=\"dataframe\">\n",
       "  <thead>\n",
       "    <tr style=\"text-align: right;\">\n",
       "      <th></th>\n",
       "      <th>EmployeeID</th>\n",
       "      <th>Age</th>\n",
       "      <th>Gender</th>\n",
       "      <th>MaritalStatus</th>\n",
       "      <th>Education</th>\n",
       "      <th>EducationField</th>\n",
       "      <th>Department</th>\n",
       "      <th>JobRole</th>\n",
       "      <th>JobLevel</th>\n",
       "      <th>MonthlyIncome</th>\n",
       "      <th>...</th>\n",
       "      <th>TrainingTimesLastYear</th>\n",
       "      <th>YearsAtCompany</th>\n",
       "      <th>YearsSinceLastPromotion</th>\n",
       "      <th>YearsWithCurrManager</th>\n",
       "      <th>EnvironmentSatisfaction</th>\n",
       "      <th>JobSatisfaction</th>\n",
       "      <th>WorkLifeBalance</th>\n",
       "      <th>JobInvolvement</th>\n",
       "      <th>PerformanceRating</th>\n",
       "      <th>Attrition</th>\n",
       "    </tr>\n",
       "  </thead>\n",
       "  <tbody>\n",
       "    <tr>\n",
       "      <th>0</th>\n",
       "      <td>1</td>\n",
       "      <td>51</td>\n",
       "      <td>1</td>\n",
       "      <td>1</td>\n",
       "      <td>1</td>\n",
       "      <td>0</td>\n",
       "      <td>0</td>\n",
       "      <td>0</td>\n",
       "      <td>1</td>\n",
       "      <td>131160</td>\n",
       "      <td>...</td>\n",
       "      <td>6</td>\n",
       "      <td>1</td>\n",
       "      <td>0</td>\n",
       "      <td>0</td>\n",
       "      <td>2</td>\n",
       "      <td>3</td>\n",
       "      <td>2</td>\n",
       "      <td>2</td>\n",
       "      <td>0</td>\n",
       "      <td>0</td>\n",
       "    </tr>\n",
       "    <tr>\n",
       "      <th>1</th>\n",
       "      <td>2</td>\n",
       "      <td>31</td>\n",
       "      <td>1</td>\n",
       "      <td>0</td>\n",
       "      <td>0</td>\n",
       "      <td>0</td>\n",
       "      <td>1</td>\n",
       "      <td>1</td>\n",
       "      <td>1</td>\n",
       "      <td>41890</td>\n",
       "      <td>...</td>\n",
       "      <td>3</td>\n",
       "      <td>5</td>\n",
       "      <td>1</td>\n",
       "      <td>4</td>\n",
       "      <td>2</td>\n",
       "      <td>1</td>\n",
       "      <td>3</td>\n",
       "      <td>1</td>\n",
       "      <td>1</td>\n",
       "      <td>1</td>\n",
       "    </tr>\n",
       "    <tr>\n",
       "      <th>2</th>\n",
       "      <td>3</td>\n",
       "      <td>32</td>\n",
       "      <td>0</td>\n",
       "      <td>1</td>\n",
       "      <td>3</td>\n",
       "      <td>1</td>\n",
       "      <td>1</td>\n",
       "      <td>2</td>\n",
       "      <td>4</td>\n",
       "      <td>193280</td>\n",
       "      <td>...</td>\n",
       "      <td>2</td>\n",
       "      <td>5</td>\n",
       "      <td>0</td>\n",
       "      <td>3</td>\n",
       "      <td>1</td>\n",
       "      <td>1</td>\n",
       "      <td>0</td>\n",
       "      <td>2</td>\n",
       "      <td>0</td>\n",
       "      <td>0</td>\n",
       "    </tr>\n",
       "    <tr>\n",
       "      <th>3</th>\n",
       "      <td>4</td>\n",
       "      <td>38</td>\n",
       "      <td>0</td>\n",
       "      <td>1</td>\n",
       "      <td>4</td>\n",
       "      <td>0</td>\n",
       "      <td>1</td>\n",
       "      <td>3</td>\n",
       "      <td>3</td>\n",
       "      <td>83210</td>\n",
       "      <td>...</td>\n",
       "      <td>5</td>\n",
       "      <td>8</td>\n",
       "      <td>7</td>\n",
       "      <td>5</td>\n",
       "      <td>3</td>\n",
       "      <td>3</td>\n",
       "      <td>1</td>\n",
       "      <td>1</td>\n",
       "      <td>0</td>\n",
       "      <td>0</td>\n",
       "    </tr>\n",
       "    <tr>\n",
       "      <th>4</th>\n",
       "      <td>5</td>\n",
       "      <td>32</td>\n",
       "      <td>0</td>\n",
       "      <td>0</td>\n",
       "      <td>0</td>\n",
       "      <td>2</td>\n",
       "      <td>1</td>\n",
       "      <td>2</td>\n",
       "      <td>1</td>\n",
       "      <td>23420</td>\n",
       "      <td>...</td>\n",
       "      <td>2</td>\n",
       "      <td>6</td>\n",
       "      <td>0</td>\n",
       "      <td>4</td>\n",
       "      <td>3</td>\n",
       "      <td>0</td>\n",
       "      <td>1</td>\n",
       "      <td>2</td>\n",
       "      <td>0</td>\n",
       "      <td>0</td>\n",
       "    </tr>\n",
       "  </tbody>\n",
       "</table>\n",
       "<p>5 rows × 26 columns</p>\n",
       "</div>"
      ],
      "text/plain": [
       "   EmployeeID  Age  Gender  MaritalStatus  Education  EducationField  \\\n",
       "0           1   51       1              1          1               0   \n",
       "1           2   31       1              0          0               0   \n",
       "2           3   32       0              1          3               1   \n",
       "3           4   38       0              1          4               0   \n",
       "4           5   32       0              0          0               2   \n",
       "\n",
       "   Department  JobRole  JobLevel  MonthlyIncome  ...  TrainingTimesLastYear  \\\n",
       "0           0        0         1         131160  ...                      6   \n",
       "1           1        1         1          41890  ...                      3   \n",
       "2           1        2         4         193280  ...                      2   \n",
       "3           1        3         3          83210  ...                      5   \n",
       "4           1        2         1          23420  ...                      2   \n",
       "\n",
       "   YearsAtCompany  YearsSinceLastPromotion  YearsWithCurrManager  \\\n",
       "0               1                        0                     0   \n",
       "1               5                        1                     4   \n",
       "2               5                        0                     3   \n",
       "3               8                        7                     5   \n",
       "4               6                        0                     4   \n",
       "\n",
       "   EnvironmentSatisfaction  JobSatisfaction  WorkLifeBalance  JobInvolvement  \\\n",
       "0                        2                3                2               2   \n",
       "1                        2                1                3               1   \n",
       "2                        1                1                0               2   \n",
       "3                        3                3                1               1   \n",
       "4                        3                0                1               2   \n",
       "\n",
       "   PerformanceRating  Attrition  \n",
       "0                  0          0  \n",
       "1                  1          1  \n",
       "2                  0          0  \n",
       "3                  0          0  \n",
       "4                  0          0  \n",
       "\n",
       "[5 rows x 26 columns]"
      ]
     },
     "execution_count": 33,
     "metadata": {},
     "output_type": "execute_result"
    }
   ],
   "source": [
    "data.head()"
   ]
  },
  {
   "cell_type": "code",
   "execution_count": 34,
   "metadata": {},
   "outputs": [],
   "source": [
    "x = data.drop(['EmployeeID', 'Attrition'], axis = 1)\n",
    "y = data['Attrition']"
   ]
  },
  {
   "cell_type": "code",
   "execution_count": 35,
   "metadata": {},
   "outputs": [],
   "source": [
    "from sklearn.model_selection import train_test_split"
   ]
  },
  {
   "cell_type": "code",
   "execution_count": 36,
   "metadata": {},
   "outputs": [],
   "source": [
    "xtrain, xtest, ytrain, ytest = train_test_split(x, y, test_size = 0.30, random_state = 101)"
   ]
  },
  {
   "cell_type": "markdown",
   "metadata": {},
   "source": [
    "# RFE"
   ]
  },
  {
   "cell_type": "code",
   "execution_count": 89,
   "metadata": {},
   "outputs": [],
   "source": [
    "from sklearn.feature_selection import RFE"
   ]
  },
  {
   "cell_type": "code",
   "execution_count": 90,
   "metadata": {},
   "outputs": [
    {
     "data": {
      "text/plain": [
       "array([ True, False, False, False, False, False, False, False,  True,\n",
       "       False, False, False, False, False, False, False, False, False,\n",
       "       False, False, False, False, False, False])"
      ]
     },
     "execution_count": 90,
     "metadata": {},
     "output_type": "execute_result"
    }
   ],
   "source": [
    "estimator = RandomForestClassifier()\n",
    "selector = RFE(estimator, n_features_to_select=2, step=1)\n",
    "selector = selector.fit(xtrain, ytrain)\n",
    "selector.support_"
   ]
  },
  {
   "cell_type": "code",
   "execution_count": 91,
   "metadata": {},
   "outputs": [
    {
     "data": {
      "text/plain": [
       "array([ 1, 22, 15, 13, 11, 21,  6, 17,  1, 19,  3,  4, 20,  7,  2, 10,  5,\n",
       "       14,  9,  8, 12, 16, 18, 23])"
      ]
     },
     "execution_count": 91,
     "metadata": {},
     "output_type": "execute_result"
    }
   ],
   "source": [
    "selector.ranking_"
   ]
  },
  {
   "cell_type": "markdown",
   "metadata": {},
   "source": [
    "# RFECV"
   ]
  },
  {
   "cell_type": "code",
   "execution_count": 92,
   "metadata": {},
   "outputs": [],
   "source": [
    "from sklearn.feature_selection import RFECV"
   ]
  },
  {
   "cell_type": "code",
   "execution_count": 93,
   "metadata": {},
   "outputs": [],
   "source": [
    "from sklearn.ensemble import RandomForestClassifier"
   ]
  },
  {
   "cell_type": "code",
   "execution_count": 94,
   "metadata": {},
   "outputs": [
    {
     "data": {
      "text/plain": [
       "array([ True, False, False, False,  True, False,  True, False,  True,\n",
       "       False,  True,  True, False,  True,  True, False,  True, False,\n",
       "        True,  True, False, False, False, False])"
      ]
     },
     "execution_count": 94,
     "metadata": {},
     "output_type": "execute_result"
    }
   ],
   "source": [
    "estimator = RandomForestClassifier()\n",
    "selector = RFECV(estimator, step=1, cv=5)\n",
    "selector = selector.fit(xtrain, ytrain)\n",
    "selector.support_"
   ]
  },
  {
   "cell_type": "code",
   "execution_count": 95,
   "metadata": {},
   "outputs": [
    {
     "data": {
      "text/plain": [
       "array([ 1, 13,  5,  3,  1, 12,  1,  8,  1, 11,  1,  1, 10,  1,  1,  4,  1,\n",
       "        6,  1,  1,  2,  7,  9, 14])"
      ]
     },
     "execution_count": 95,
     "metadata": {},
     "output_type": "execute_result"
    }
   ],
   "source": [
    "selector.ranking_"
   ]
  },
  {
   "cell_type": "markdown",
   "metadata": {},
   "source": [
    "# Feature Importance"
   ]
  },
  {
   "cell_type": "code",
   "execution_count": 85,
   "metadata": {},
   "outputs": [],
   "source": [
    "from sklearn.metrics import accuracy_score, confusion_matrix, classification_report"
   ]
  },
  {
   "cell_type": "code",
   "execution_count": 69,
   "metadata": {},
   "outputs": [],
   "source": [
    "from sklearn.ensemble import AdaBoostClassifier"
   ]
  },
  {
   "cell_type": "code",
   "execution_count": 70,
   "metadata": {},
   "outputs": [
    {
     "name": "stdout",
     "output_type": "stream",
     "text": [
      "Accuracy: 97.75%\n"
     ]
    }
   ],
   "source": [
    "model = AdaBoostClassifier(base_estimator = RandomForestClassifier(random_state = 101), algorithm='SAMME', random_state = 101)\n",
    "model.fit(xtrain, ytrain)\n",
    "# make predictions for test data and evaluate\n",
    "predictions = model.predict(xtest)\n",
    "accuracy = accuracy_score(ytest, predictions)\n",
    "print(\"Accuracy: %.2f%%\" % (accuracy * 100.0))"
   ]
  },
  {
   "cell_type": "code",
   "execution_count": 71,
   "metadata": {},
   "outputs": [
    {
     "name": "stdout",
     "output_type": "stream",
     "text": [
      "[0.00940618 0.0141627  0.0204411  0.0263415  0.02848804 0.02871731\n",
      " 0.02922948 0.03028373 0.03244834 0.0342275  0.03500842 0.03602188\n",
      " 0.03643926 0.03765832 0.04187871 0.04205882 0.04232492 0.04735264\n",
      " 0.05608373 0.05838357 0.06660503 0.07513414 0.08220497 0.0890997 ]\n"
     ]
    }
   ],
   "source": [
    "model = AdaBoostClassifier(base_estimator = RandomForestClassifier(random_state = 101), algorithm='SAMME', random_state = 101)\n",
    "model.fit(xtrain, ytrain)\n",
    "print(np.sort(model.feature_importances_))"
   ]
  },
  {
   "cell_type": "code",
   "execution_count": 72,
   "metadata": {},
   "outputs": [],
   "source": [
    "feature = pd.DataFrame()\n",
    "feature['kolom'] = x.columns\n",
    "feature['importances'] = model.feature_importances_"
   ]
  },
  {
   "cell_type": "code",
   "execution_count": 73,
   "metadata": {},
   "outputs": [
    {
     "data": {
      "text/plain": [
       "<Figure size 1080x1080 with 0 Axes>"
      ]
     },
     "metadata": {},
     "output_type": "display_data"
    },
    {
     "data": {
      "image/png": "[encoded data removed]",
      "text/plain": [
       "<Figure size 360x360 with 1 Axes>"
      ]
     },
     "metadata": {
      "needs_background": "light"
     },
     "output_type": "display_data"
    }
   ],
   "source": [
    "plt.figure(figsize=(15,15))\n",
    "sns.catplot(y = 'kolom', x = 'importances', data = feature.sort_values(by = 'importances'), kind= 'bar')\n",
    "plt.tight_layout()"
   ]
  },
  {
   "cell_type": "code",
   "execution_count": 74,
   "metadata": {},
   "outputs": [],
   "source": [
    "from sklearn.feature_selection import SelectFromModel"
   ]
  },
  {
   "cell_type": "code",
   "execution_count": 75,
   "metadata": {
    "scrolled": false
   },
   "outputs": [
    {
     "name": "stdout",
     "output_type": "stream",
     "text": [
      "Thresh=0.009, n=24, Accuracy: 98.14%\n",
      "Thresh=0.014, n=23, Accuracy: 97.98%\n",
      "Thresh=0.020, n=22, Accuracy: 98.22%\n",
      "Thresh=0.026, n=21, Accuracy: 98.06%\n",
      "Thresh=0.028, n=20, Accuracy: 97.60%\n",
      "Thresh=0.029, n=19, Accuracy: 98.37%\n",
      "Thresh=0.029, n=18, Accuracy: 97.83%\n",
      "Thresh=0.030, n=17, Accuracy: 97.98%\n",
      "Thresh=0.032, n=16, Accuracy: 97.98%\n",
      "Thresh=0.034, n=15, Accuracy: 97.98%\n",
      "Thresh=0.035, n=14, Accuracy: 97.60%\n",
      "Thresh=0.036, n=13, Accuracy: 97.83%\n",
      "Thresh=0.036, n=12, Accuracy: 97.83%\n",
      "Thresh=0.038, n=11, Accuracy: 97.83%\n",
      "Thresh=0.042, n=10, Accuracy: 97.98%\n",
      "Thresh=0.042, n=9, Accuracy: 97.75%\n",
      "Thresh=0.042, n=8, Accuracy: 97.52%\n",
      "Thresh=0.047, n=7, Accuracy: 97.75%\n",
      "Thresh=0.056, n=6, Accuracy: 97.52%\n",
      "Thresh=0.058, n=5, Accuracy: 97.52%\n",
      "Thresh=0.067, n=4, Accuracy: 97.52%\n",
      "Thresh=0.075, n=3, Accuracy: 97.60%\n",
      "Thresh=0.082, n=2, Accuracy: 97.83%\n",
      "Thresh=0.089, n=1, Accuracy: 83.10%\n"
     ]
    }
   ],
   "source": [
    "thresholds = np.sort(model.feature_importances_)\n",
    "for thresh in thresholds:\n",
    "    # select features using threshold\n",
    "    selection = SelectFromModel(model, threshold=thresh, prefit=True)\n",
    "    select_xtrain = selection.transform(xtrain)\n",
    "    # train model\n",
    "    selection_model = RandomForestClassifier()\n",
    "    selection_model.fit(select_xtrain, ytrain)\n",
    "    # eval model\n",
    "    select_xtest = selection.transform(xtest)\n",
    "    predictions = selection_model.predict(select_xtest)\n",
    "    accuracy = accuracy_score(ytest, predictions)\n",
    "    print(\"Thresh=%.3f, n=%d, Accuracy: %.2f%%\" % (thresh, select_xtrain.shape[1], accuracy*100.0))"
   ]
  },
  {
   "cell_type": "code",
   "execution_count": 84,
   "metadata": {},
   "outputs": [
    {
     "name": "stdout",
     "output_type": "stream",
     "text": [
      "Accuracy: 97.83%\n"
     ]
    }
   ],
   "source": [
    "model = AdaBoostClassifier(base_estimator = RandomForestClassifier(random_state = 101), algorithm='SAMME', random_state = 101)\n",
    "model.fit(xtrain[['Age','MonthlyIncome']], ytrain)\n",
    "# make predictions for test data and evaluate\n",
    "predictions = model.predict(xtest[['Age','MonthlyIncome']])\n",
    "accuracy = accuracy_score(ytest, predictions)\n",
    "print(\"Accuracy: %.2f%%\" % (accuracy * 100.0))"
   ]
  },
  {
   "cell_type": "code",
   "execution_count": 88,
   "metadata": {},
   "outputs": [
    {
     "name": "stdout",
     "output_type": "stream",
     "text": [
      "              precision    recall  f1-score   support\n",
      "\n",
      "           0       0.98      0.99      0.99      1071\n",
      "           1       0.97      0.90      0.93       219\n",
      "\n",
      "    accuracy                           0.98      1290\n",
      "   macro avg       0.98      0.95      0.96      1290\n",
      "weighted avg       0.98      0.98      0.98      1290\n",
      "\n"
     ]
    }
   ],
   "source": [
    "print(classification_report(ytest, predictions))"
   ]
  },
  {
   "cell_type": "code",
   "execution_count": null,
   "metadata": {},
   "outputs": [],
   "source": []
  }
 ],
 "metadata": {
  "kernelspec": {
   "display_name": "Python 3",
   "language": "python",
   "name": "python3"
  },
  "language_info": {
   "codemirror_mode": {
    "name": "ipython",
    "version": 3
   },
   "file_extension": ".py",
   "mimetype": "text/x-python",
   "name": "python",
   "nbconvert_exporter": "python",
   "pygments_lexer": "ipython3",
   "version": "3.7.6"
  }
 },
 "nbformat": 4,
 "nbformat_minor": 4
}
