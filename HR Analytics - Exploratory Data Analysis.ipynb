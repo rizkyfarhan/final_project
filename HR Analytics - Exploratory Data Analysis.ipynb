{
 "cells": [
  {
   "cell_type": "markdown",
   "metadata": {},
   "source": [
    "# HR Analytics - Employee Attrition"
   ]
  },
  {
   "cell_type": "markdown",
   "metadata": {},
   "source": [
    "### Muhammad Rizky Farhan\n",
    "\n",
    "**Dataset:** HR Analytics Case Study | **Source:** [kaggle.com](https://www.kaggle.com/vjchoudhary7/hr-analytics-case-study?select=general_data.csv)"
   ]
  },
  {
   "cell_type": "markdown",
   "metadata": {},
   "source": [
    "**Problem**\n",
    "\n",
    "A large company named XYZ employs around 4000 employees. However, every year around 15% of it's employees leave the company and needs to be replaced. The management believes that this level of attrition (employees leaving) is bad for the company. Hence the management wanted to understand what factors they should focus on in order to make their employees stay and what factors need to be addressed right away.\n",
    "\n",
    "**Goal**\n",
    "\n",
    "Identify what are the most significant factors affecting attrition and making a model to predict new employees attrition."
   ]
  },
  {
   "cell_type": "markdown",
   "metadata": {},
   "source": [
    "### I. Importing Data & Library"
   ]
  },
  {
   "cell_type": "code",
   "execution_count": 1,
   "metadata": {},
   "outputs": [],
   "source": [
    "import pandas as pd\n",
    "import numpy as np\n",
    "import seaborn as sns\n",
    "import matplotlib.pyplot as plt\n",
    "%matplotlib inline"
   ]
  },
  {
   "cell_type": "code",
   "execution_count": 2,
   "metadata": {},
   "outputs": [],
   "source": [
    "data = pd.read_csv('clean_data.csv')"
   ]
  },
  {
   "cell_type": "code",
   "execution_count": 3,
   "metadata": {},
   "outputs": [
    {
     "data": {
      "text/html": [
       "<div>\n",
       "<style scoped>\n",
       "    .dataframe tbody tr th:only-of-type {\n",
       "        vertical-align: middle;\n",
       "    }\n",
       "\n",
       "    .dataframe tbody tr th {\n",
       "        vertical-align: top;\n",
       "    }\n",
       "\n",
       "    .dataframe thead th {\n",
       "        text-align: right;\n",
       "    }\n",
       "</style>\n",
       "<table border=\"1\" class=\"dataframe\">\n",
       "  <thead>\n",
       "    <tr style=\"text-align: right;\">\n",
       "      <th></th>\n",
       "      <th>EmployeeID</th>\n",
       "      <th>Age</th>\n",
       "      <th>Gender</th>\n",
       "      <th>MaritalStatus</th>\n",
       "      <th>Education</th>\n",
       "      <th>EducationField</th>\n",
       "      <th>Department</th>\n",
       "      <th>JobRole</th>\n",
       "      <th>JobLevel</th>\n",
       "      <th>MonthlyIncome</th>\n",
       "      <th>...</th>\n",
       "      <th>TrainingTimesLastYear</th>\n",
       "      <th>YearsAtCompany</th>\n",
       "      <th>YearsSinceLastPromotion</th>\n",
       "      <th>YearsWithCurrManager</th>\n",
       "      <th>EnvironmentSatisfaction</th>\n",
       "      <th>JobSatisfaction</th>\n",
       "      <th>WorkLifeBalance</th>\n",
       "      <th>JobInvolvement</th>\n",
       "      <th>PerformanceRating</th>\n",
       "      <th>Attrition</th>\n",
       "    </tr>\n",
       "  </thead>\n",
       "  <tbody>\n",
       "    <tr>\n",
       "      <th>0</th>\n",
       "      <td>1</td>\n",
       "      <td>51</td>\n",
       "      <td>Female</td>\n",
       "      <td>Married</td>\n",
       "      <td>College</td>\n",
       "      <td>Life Sciences</td>\n",
       "      <td>Sales</td>\n",
       "      <td>Healthcare Representative</td>\n",
       "      <td>1</td>\n",
       "      <td>131160</td>\n",
       "      <td>...</td>\n",
       "      <td>6</td>\n",
       "      <td>1</td>\n",
       "      <td>0</td>\n",
       "      <td>0</td>\n",
       "      <td>High</td>\n",
       "      <td>Very High</td>\n",
       "      <td>Good</td>\n",
       "      <td>High</td>\n",
       "      <td>Excellent</td>\n",
       "      <td>No</td>\n",
       "    </tr>\n",
       "    <tr>\n",
       "      <th>1</th>\n",
       "      <td>2</td>\n",
       "      <td>31</td>\n",
       "      <td>Female</td>\n",
       "      <td>Single</td>\n",
       "      <td>Below College</td>\n",
       "      <td>Life Sciences</td>\n",
       "      <td>Research &amp; Development</td>\n",
       "      <td>Research Scientist</td>\n",
       "      <td>1</td>\n",
       "      <td>41890</td>\n",
       "      <td>...</td>\n",
       "      <td>3</td>\n",
       "      <td>5</td>\n",
       "      <td>1</td>\n",
       "      <td>4</td>\n",
       "      <td>High</td>\n",
       "      <td>Medium</td>\n",
       "      <td>Best</td>\n",
       "      <td>Medium</td>\n",
       "      <td>Outstanding</td>\n",
       "      <td>Yes</td>\n",
       "    </tr>\n",
       "    <tr>\n",
       "      <th>2</th>\n",
       "      <td>3</td>\n",
       "      <td>32</td>\n",
       "      <td>Male</td>\n",
       "      <td>Married</td>\n",
       "      <td>Master</td>\n",
       "      <td>Other</td>\n",
       "      <td>Research &amp; Development</td>\n",
       "      <td>Sales Executive</td>\n",
       "      <td>4</td>\n",
       "      <td>193280</td>\n",
       "      <td>...</td>\n",
       "      <td>2</td>\n",
       "      <td>5</td>\n",
       "      <td>0</td>\n",
       "      <td>3</td>\n",
       "      <td>Medium</td>\n",
       "      <td>Medium</td>\n",
       "      <td>Bad</td>\n",
       "      <td>High</td>\n",
       "      <td>Excellent</td>\n",
       "      <td>No</td>\n",
       "    </tr>\n",
       "    <tr>\n",
       "      <th>3</th>\n",
       "      <td>4</td>\n",
       "      <td>38</td>\n",
       "      <td>Male</td>\n",
       "      <td>Married</td>\n",
       "      <td>Doctor</td>\n",
       "      <td>Life Sciences</td>\n",
       "      <td>Research &amp; Development</td>\n",
       "      <td>Human Resources</td>\n",
       "      <td>3</td>\n",
       "      <td>83210</td>\n",
       "      <td>...</td>\n",
       "      <td>5</td>\n",
       "      <td>8</td>\n",
       "      <td>7</td>\n",
       "      <td>5</td>\n",
       "      <td>Very High</td>\n",
       "      <td>Very High</td>\n",
       "      <td>Better</td>\n",
       "      <td>Medium</td>\n",
       "      <td>Excellent</td>\n",
       "      <td>No</td>\n",
       "    </tr>\n",
       "    <tr>\n",
       "      <th>4</th>\n",
       "      <td>5</td>\n",
       "      <td>32</td>\n",
       "      <td>Male</td>\n",
       "      <td>Single</td>\n",
       "      <td>Below College</td>\n",
       "      <td>Medical</td>\n",
       "      <td>Research &amp; Development</td>\n",
       "      <td>Sales Executive</td>\n",
       "      <td>1</td>\n",
       "      <td>23420</td>\n",
       "      <td>...</td>\n",
       "      <td>2</td>\n",
       "      <td>6</td>\n",
       "      <td>0</td>\n",
       "      <td>4</td>\n",
       "      <td>Very High</td>\n",
       "      <td>Low</td>\n",
       "      <td>Better</td>\n",
       "      <td>High</td>\n",
       "      <td>Excellent</td>\n",
       "      <td>No</td>\n",
       "    </tr>\n",
       "  </tbody>\n",
       "</table>\n",
       "<p>5 rows × 26 columns</p>\n",
       "</div>"
      ],
      "text/plain": [
       "   EmployeeID  Age  Gender MaritalStatus      Education EducationField  \\\n",
       "0           1   51  Female       Married        College  Life Sciences   \n",
       "1           2   31  Female        Single  Below College  Life Sciences   \n",
       "2           3   32    Male       Married         Master          Other   \n",
       "3           4   38    Male       Married         Doctor  Life Sciences   \n",
       "4           5   32    Male        Single  Below College        Medical   \n",
       "\n",
       "               Department                    JobRole  JobLevel  MonthlyIncome  \\\n",
       "0                   Sales  Healthcare Representative         1         131160   \n",
       "1  Research & Development         Research Scientist         1          41890   \n",
       "2  Research & Development            Sales Executive         4         193280   \n",
       "3  Research & Development            Human Resources         3          83210   \n",
       "4  Research & Development            Sales Executive         1          23420   \n",
       "\n",
       "   ... TrainingTimesLastYear  YearsAtCompany  YearsSinceLastPromotion  \\\n",
       "0  ...                     6               1                        0   \n",
       "1  ...                     3               5                        1   \n",
       "2  ...                     2               5                        0   \n",
       "3  ...                     5               8                        7   \n",
       "4  ...                     2               6                        0   \n",
       "\n",
       "   YearsWithCurrManager  EnvironmentSatisfaction  JobSatisfaction  \\\n",
       "0                     0                     High        Very High   \n",
       "1                     4                     High           Medium   \n",
       "2                     3                   Medium           Medium   \n",
       "3                     5                Very High        Very High   \n",
       "4                     4                Very High              Low   \n",
       "\n",
       "   WorkLifeBalance  JobInvolvement  PerformanceRating  Attrition  \n",
       "0             Good            High          Excellent         No  \n",
       "1             Best          Medium        Outstanding        Yes  \n",
       "2              Bad            High          Excellent         No  \n",
       "3           Better          Medium          Excellent         No  \n",
       "4           Better            High          Excellent         No  \n",
       "\n",
       "[5 rows x 26 columns]"
      ]
     },
     "execution_count": 3,
     "metadata": {},
     "output_type": "execute_result"
    }
   ],
   "source": [
    "data.head()"
   ]
  },
  {
   "cell_type": "markdown",
   "metadata": {},
   "source": [
    "### II. Exploratory Data Analysis (EDA)\n",
    "\n",
    "In this first step, exploratory data analysis is used in order to understand and identify insights from the data. The process will include several analysis and visualization of the features in the dataset. From the insights identified will then be  decided if there needs to be further analysis that needs to be done before building the model."
   ]
  },
  {
   "cell_type": "markdown",
   "metadata": {},
   "source": [
    "### II.1 Data Description"
   ]
  },
  {
   "cell_type": "code",
   "execution_count": 4,
   "metadata": {},
   "outputs": [
    {
     "name": "stdout",
     "output_type": "stream",
     "text": [
      "<class 'pandas.core.frame.DataFrame'>\n",
      "RangeIndex: 4300 entries, 0 to 4299\n",
      "Data columns (total 26 columns):\n",
      " #   Column                   Non-Null Count  Dtype  \n",
      "---  ------                   --------------  -----  \n",
      " 0   EmployeeID               4300 non-null   int64  \n",
      " 1   Age                      4300 non-null   int64  \n",
      " 2   Gender                   4300 non-null   object \n",
      " 3   MaritalStatus            4300 non-null   object \n",
      " 4   Education                4300 non-null   object \n",
      " 5   EducationField           4300 non-null   object \n",
      " 6   Department               4300 non-null   object \n",
      " 7   JobRole                  4300 non-null   object \n",
      " 8   JobLevel                 4300 non-null   int64  \n",
      " 9   MonthlyIncome            4300 non-null   int64  \n",
      " 10  BusinessTravel           4300 non-null   object \n",
      " 11  DistanceFromHome         4300 non-null   int64  \n",
      " 12  PercentSalaryHike        4300 non-null   int64  \n",
      " 13  StockOptionLevel         4300 non-null   int64  \n",
      " 14  NumCompaniesWorked       4300 non-null   float64\n",
      " 15  TotalWorkingYears        4300 non-null   float64\n",
      " 16  TrainingTimesLastYear    4300 non-null   int64  \n",
      " 17  YearsAtCompany           4300 non-null   int64  \n",
      " 18  YearsSinceLastPromotion  4300 non-null   int64  \n",
      " 19  YearsWithCurrManager     4300 non-null   int64  \n",
      " 20  EnvironmentSatisfaction  4300 non-null   object \n",
      " 21  JobSatisfaction          4300 non-null   object \n",
      " 22  WorkLifeBalance          4300 non-null   object \n",
      " 23  JobInvolvement           4300 non-null   object \n",
      " 24  PerformanceRating        4300 non-null   object \n",
      " 25  Attrition                4300 non-null   object \n",
      "dtypes: float64(2), int64(11), object(13)\n",
      "memory usage: 873.6+ KB\n"
     ]
    }
   ],
   "source": [
    "data.info()"
   ]
  },
  {
   "cell_type": "code",
   "execution_count": 5,
   "metadata": {},
   "outputs": [
    {
     "data": {
      "text/html": [
       "<div>\n",
       "<style scoped>\n",
       "    .dataframe tbody tr th:only-of-type {\n",
       "        vertical-align: middle;\n",
       "    }\n",
       "\n",
       "    .dataframe tbody tr th {\n",
       "        vertical-align: top;\n",
       "    }\n",
       "\n",
       "    .dataframe thead th {\n",
       "        text-align: right;\n",
       "    }\n",
       "</style>\n",
       "<table border=\"1\" class=\"dataframe\">\n",
       "  <thead>\n",
       "    <tr style=\"text-align: right;\">\n",
       "      <th></th>\n",
       "      <th>EmployeeID</th>\n",
       "      <th>Age</th>\n",
       "      <th>JobLevel</th>\n",
       "      <th>MonthlyIncome</th>\n",
       "      <th>DistanceFromHome</th>\n",
       "      <th>PercentSalaryHike</th>\n",
       "      <th>StockOptionLevel</th>\n",
       "      <th>NumCompaniesWorked</th>\n",
       "      <th>TotalWorkingYears</th>\n",
       "      <th>TrainingTimesLastYear</th>\n",
       "      <th>YearsAtCompany</th>\n",
       "      <th>YearsSinceLastPromotion</th>\n",
       "      <th>YearsWithCurrManager</th>\n",
       "    </tr>\n",
       "  </thead>\n",
       "  <tbody>\n",
       "    <tr>\n",
       "      <th>count</th>\n",
       "      <td>4300.000000</td>\n",
       "      <td>4300.000000</td>\n",
       "      <td>4300.000000</td>\n",
       "      <td>4300.000000</td>\n",
       "      <td>4300.000000</td>\n",
       "      <td>4300.000000</td>\n",
       "      <td>4300.000000</td>\n",
       "      <td>4300.000000</td>\n",
       "      <td>4300.000000</td>\n",
       "      <td>4300.000000</td>\n",
       "      <td>4300.000000</td>\n",
       "      <td>4300.000000</td>\n",
       "      <td>4300.000000</td>\n",
       "    </tr>\n",
       "    <tr>\n",
       "      <th>mean</th>\n",
       "      <td>2211.695116</td>\n",
       "      <td>36.926977</td>\n",
       "      <td>2.066977</td>\n",
       "      <td>65059.844186</td>\n",
       "      <td>9.197907</td>\n",
       "      <td>15.210698</td>\n",
       "      <td>0.795349</td>\n",
       "      <td>2.690000</td>\n",
       "      <td>11.285116</td>\n",
       "      <td>2.796279</td>\n",
       "      <td>7.026047</td>\n",
       "      <td>2.190000</td>\n",
       "      <td>4.132558</td>\n",
       "    </tr>\n",
       "    <tr>\n",
       "      <th>std</th>\n",
       "      <td>1272.117692</td>\n",
       "      <td>9.146517</td>\n",
       "      <td>1.106633</td>\n",
       "      <td>47045.398914</td>\n",
       "      <td>8.097059</td>\n",
       "      <td>3.662777</td>\n",
       "      <td>0.853534</td>\n",
       "      <td>2.495764</td>\n",
       "      <td>7.790052</td>\n",
       "      <td>1.290142</td>\n",
       "      <td>6.148036</td>\n",
       "      <td>3.230818</td>\n",
       "      <td>3.565831</td>\n",
       "    </tr>\n",
       "    <tr>\n",
       "      <th>min</th>\n",
       "      <td>1.000000</td>\n",
       "      <td>18.000000</td>\n",
       "      <td>1.000000</td>\n",
       "      <td>10090.000000</td>\n",
       "      <td>1.000000</td>\n",
       "      <td>11.000000</td>\n",
       "      <td>0.000000</td>\n",
       "      <td>0.000000</td>\n",
       "      <td>0.000000</td>\n",
       "      <td>0.000000</td>\n",
       "      <td>0.000000</td>\n",
       "      <td>0.000000</td>\n",
       "      <td>0.000000</td>\n",
       "    </tr>\n",
       "    <tr>\n",
       "      <th>25%</th>\n",
       "      <td>1110.750000</td>\n",
       "      <td>30.000000</td>\n",
       "      <td>1.000000</td>\n",
       "      <td>29260.000000</td>\n",
       "      <td>2.000000</td>\n",
       "      <td>12.000000</td>\n",
       "      <td>0.000000</td>\n",
       "      <td>1.000000</td>\n",
       "      <td>6.000000</td>\n",
       "      <td>2.000000</td>\n",
       "      <td>3.000000</td>\n",
       "      <td>0.000000</td>\n",
       "      <td>2.000000</td>\n",
       "    </tr>\n",
       "    <tr>\n",
       "      <th>50%</th>\n",
       "      <td>2215.500000</td>\n",
       "      <td>36.000000</td>\n",
       "      <td>2.000000</td>\n",
       "      <td>49360.000000</td>\n",
       "      <td>7.000000</td>\n",
       "      <td>14.000000</td>\n",
       "      <td>1.000000</td>\n",
       "      <td>2.000000</td>\n",
       "      <td>10.000000</td>\n",
       "      <td>3.000000</td>\n",
       "      <td>5.000000</td>\n",
       "      <td>1.000000</td>\n",
       "      <td>3.000000</td>\n",
       "    </tr>\n",
       "    <tr>\n",
       "      <th>75%</th>\n",
       "      <td>3314.250000</td>\n",
       "      <td>43.000000</td>\n",
       "      <td>3.000000</td>\n",
       "      <td>83802.500000</td>\n",
       "      <td>14.000000</td>\n",
       "      <td>18.000000</td>\n",
       "      <td>1.000000</td>\n",
       "      <td>4.000000</td>\n",
       "      <td>15.000000</td>\n",
       "      <td>3.000000</td>\n",
       "      <td>9.250000</td>\n",
       "      <td>3.000000</td>\n",
       "      <td>7.000000</td>\n",
       "    </tr>\n",
       "    <tr>\n",
       "      <th>max</th>\n",
       "      <td>4409.000000</td>\n",
       "      <td>60.000000</td>\n",
       "      <td>5.000000</td>\n",
       "      <td>199990.000000</td>\n",
       "      <td>29.000000</td>\n",
       "      <td>25.000000</td>\n",
       "      <td>3.000000</td>\n",
       "      <td>9.000000</td>\n",
       "      <td>40.000000</td>\n",
       "      <td>6.000000</td>\n",
       "      <td>40.000000</td>\n",
       "      <td>15.000000</td>\n",
       "      <td>17.000000</td>\n",
       "    </tr>\n",
       "  </tbody>\n",
       "</table>\n",
       "</div>"
      ],
      "text/plain": [
       "        EmployeeID          Age     JobLevel  MonthlyIncome  DistanceFromHome  \\\n",
       "count  4300.000000  4300.000000  4300.000000    4300.000000       4300.000000   \n",
       "mean   2211.695116    36.926977     2.066977   65059.844186          9.197907   \n",
       "std    1272.117692     9.146517     1.106633   47045.398914          8.097059   \n",
       "min       1.000000    18.000000     1.000000   10090.000000          1.000000   \n",
       "25%    1110.750000    30.000000     1.000000   29260.000000          2.000000   \n",
       "50%    2215.500000    36.000000     2.000000   49360.000000          7.000000   \n",
       "75%    3314.250000    43.000000     3.000000   83802.500000         14.000000   \n",
       "max    4409.000000    60.000000     5.000000  199990.000000         29.000000   \n",
       "\n",
       "       PercentSalaryHike  StockOptionLevel  NumCompaniesWorked  \\\n",
       "count        4300.000000       4300.000000         4300.000000   \n",
       "mean           15.210698          0.795349            2.690000   \n",
       "std             3.662777          0.853534            2.495764   \n",
       "min            11.000000          0.000000            0.000000   \n",
       "25%            12.000000          0.000000            1.000000   \n",
       "50%            14.000000          1.000000            2.000000   \n",
       "75%            18.000000          1.000000            4.000000   \n",
       "max            25.000000          3.000000            9.000000   \n",
       "\n",
       "       TotalWorkingYears  TrainingTimesLastYear  YearsAtCompany  \\\n",
       "count        4300.000000            4300.000000     4300.000000   \n",
       "mean           11.285116               2.796279        7.026047   \n",
       "std             7.790052               1.290142        6.148036   \n",
       "min             0.000000               0.000000        0.000000   \n",
       "25%             6.000000               2.000000        3.000000   \n",
       "50%            10.000000               3.000000        5.000000   \n",
       "75%            15.000000               3.000000        9.250000   \n",
       "max            40.000000               6.000000       40.000000   \n",
       "\n",
       "       YearsSinceLastPromotion  YearsWithCurrManager  \n",
       "count              4300.000000           4300.000000  \n",
       "mean                  2.190000              4.132558  \n",
       "std                   3.230818              3.565831  \n",
       "min                   0.000000              0.000000  \n",
       "25%                   0.000000              2.000000  \n",
       "50%                   1.000000              3.000000  \n",
       "75%                   3.000000              7.000000  \n",
       "max                  15.000000             17.000000  "
      ]
     },
     "execution_count": 5,
     "metadata": {},
     "output_type": "execute_result"
    }
   ],
   "source": [
    "data.describe()"
   ]
  },
  {
   "cell_type": "code",
   "execution_count": 6,
   "metadata": {
    "scrolled": false
   },
   "outputs": [
    {
     "data": {
      "text/html": [
       "<div>\n",
       "<style scoped>\n",
       "    .dataframe tbody tr th:only-of-type {\n",
       "        vertical-align: middle;\n",
       "    }\n",
       "\n",
       "    .dataframe tbody tr th {\n",
       "        vertical-align: top;\n",
       "    }\n",
       "\n",
       "    .dataframe thead th {\n",
       "        text-align: right;\n",
       "    }\n",
       "</style>\n",
       "<table border=\"1\" class=\"dataframe\">\n",
       "  <thead>\n",
       "    <tr style=\"text-align: right;\">\n",
       "      <th></th>\n",
       "      <th>data features</th>\n",
       "      <th>dataType</th>\n",
       "      <th>null</th>\n",
       "      <th>nullPct</th>\n",
       "      <th>unique</th>\n",
       "      <th>uniqueSample</th>\n",
       "    </tr>\n",
       "  </thead>\n",
       "  <tbody>\n",
       "    <tr>\n",
       "      <th>0</th>\n",
       "      <td>EmployeeID</td>\n",
       "      <td>int64</td>\n",
       "      <td>0</td>\n",
       "      <td>0.0</td>\n",
       "      <td>4300</td>\n",
       "      <td>[241, 820]</td>\n",
       "    </tr>\n",
       "    <tr>\n",
       "      <th>1</th>\n",
       "      <td>Age</td>\n",
       "      <td>int64</td>\n",
       "      <td>0</td>\n",
       "      <td>0.0</td>\n",
       "      <td>43</td>\n",
       "      <td>[39, 55]</td>\n",
       "    </tr>\n",
       "    <tr>\n",
       "      <th>2</th>\n",
       "      <td>Gender</td>\n",
       "      <td>object</td>\n",
       "      <td>0</td>\n",
       "      <td>0.0</td>\n",
       "      <td>2</td>\n",
       "      <td>[Male, Female]</td>\n",
       "    </tr>\n",
       "    <tr>\n",
       "      <th>3</th>\n",
       "      <td>MaritalStatus</td>\n",
       "      <td>object</td>\n",
       "      <td>0</td>\n",
       "      <td>0.0</td>\n",
       "      <td>3</td>\n",
       "      <td>[Single, Married]</td>\n",
       "    </tr>\n",
       "    <tr>\n",
       "      <th>4</th>\n",
       "      <td>Education</td>\n",
       "      <td>object</td>\n",
       "      <td>0</td>\n",
       "      <td>0.0</td>\n",
       "      <td>5</td>\n",
       "      <td>[Below College, Doctor]</td>\n",
       "    </tr>\n",
       "    <tr>\n",
       "      <th>5</th>\n",
       "      <td>EducationField</td>\n",
       "      <td>object</td>\n",
       "      <td>0</td>\n",
       "      <td>0.0</td>\n",
       "      <td>6</td>\n",
       "      <td>[Medical, Other]</td>\n",
       "    </tr>\n",
       "    <tr>\n",
       "      <th>6</th>\n",
       "      <td>Department</td>\n",
       "      <td>object</td>\n",
       "      <td>0</td>\n",
       "      <td>0.0</td>\n",
       "      <td>3</td>\n",
       "      <td>[Research &amp; Development, Sales]</td>\n",
       "    </tr>\n",
       "    <tr>\n",
       "      <th>7</th>\n",
       "      <td>JobRole</td>\n",
       "      <td>object</td>\n",
       "      <td>0</td>\n",
       "      <td>0.0</td>\n",
       "      <td>9</td>\n",
       "      <td>[Research Director, Manager]</td>\n",
       "    </tr>\n",
       "    <tr>\n",
       "      <th>8</th>\n",
       "      <td>JobLevel</td>\n",
       "      <td>int64</td>\n",
       "      <td>0</td>\n",
       "      <td>0.0</td>\n",
       "      <td>5</td>\n",
       "      <td>[2, 3]</td>\n",
       "    </tr>\n",
       "    <tr>\n",
       "      <th>9</th>\n",
       "      <td>MonthlyIncome</td>\n",
       "      <td>int64</td>\n",
       "      <td>0</td>\n",
       "      <td>0.0</td>\n",
       "      <td>1349</td>\n",
       "      <td>[27430, 148140]</td>\n",
       "    </tr>\n",
       "    <tr>\n",
       "      <th>10</th>\n",
       "      <td>BusinessTravel</td>\n",
       "      <td>object</td>\n",
       "      <td>0</td>\n",
       "      <td>0.0</td>\n",
       "      <td>3</td>\n",
       "      <td>[Non-Travel, Travel_Frequently]</td>\n",
       "    </tr>\n",
       "    <tr>\n",
       "      <th>11</th>\n",
       "      <td>DistanceFromHome</td>\n",
       "      <td>int64</td>\n",
       "      <td>0</td>\n",
       "      <td>0.0</td>\n",
       "      <td>29</td>\n",
       "      <td>[28, 5]</td>\n",
       "    </tr>\n",
       "    <tr>\n",
       "      <th>12</th>\n",
       "      <td>PercentSalaryHike</td>\n",
       "      <td>int64</td>\n",
       "      <td>0</td>\n",
       "      <td>0.0</td>\n",
       "      <td>15</td>\n",
       "      <td>[23, 21]</td>\n",
       "    </tr>\n",
       "    <tr>\n",
       "      <th>13</th>\n",
       "      <td>StockOptionLevel</td>\n",
       "      <td>int64</td>\n",
       "      <td>0</td>\n",
       "      <td>0.0</td>\n",
       "      <td>4</td>\n",
       "      <td>[3, 1]</td>\n",
       "    </tr>\n",
       "    <tr>\n",
       "      <th>14</th>\n",
       "      <td>NumCompaniesWorked</td>\n",
       "      <td>float64</td>\n",
       "      <td>0</td>\n",
       "      <td>0.0</td>\n",
       "      <td>10</td>\n",
       "      <td>[6.0, 8.0]</td>\n",
       "    </tr>\n",
       "    <tr>\n",
       "      <th>15</th>\n",
       "      <td>TotalWorkingYears</td>\n",
       "      <td>float64</td>\n",
       "      <td>0</td>\n",
       "      <td>0.0</td>\n",
       "      <td>40</td>\n",
       "      <td>[15.0, 13.0]</td>\n",
       "    </tr>\n",
       "    <tr>\n",
       "      <th>16</th>\n",
       "      <td>TrainingTimesLastYear</td>\n",
       "      <td>int64</td>\n",
       "      <td>0</td>\n",
       "      <td>0.0</td>\n",
       "      <td>7</td>\n",
       "      <td>[2, 1]</td>\n",
       "    </tr>\n",
       "    <tr>\n",
       "      <th>17</th>\n",
       "      <td>YearsAtCompany</td>\n",
       "      <td>int64</td>\n",
       "      <td>0</td>\n",
       "      <td>0.0</td>\n",
       "      <td>37</td>\n",
       "      <td>[14, 23]</td>\n",
       "    </tr>\n",
       "    <tr>\n",
       "      <th>18</th>\n",
       "      <td>YearsSinceLastPromotion</td>\n",
       "      <td>int64</td>\n",
       "      <td>0</td>\n",
       "      <td>0.0</td>\n",
       "      <td>16</td>\n",
       "      <td>[12, 10]</td>\n",
       "    </tr>\n",
       "    <tr>\n",
       "      <th>19</th>\n",
       "      <td>YearsWithCurrManager</td>\n",
       "      <td>int64</td>\n",
       "      <td>0</td>\n",
       "      <td>0.0</td>\n",
       "      <td>18</td>\n",
       "      <td>[3, 14]</td>\n",
       "    </tr>\n",
       "    <tr>\n",
       "      <th>20</th>\n",
       "      <td>EnvironmentSatisfaction</td>\n",
       "      <td>object</td>\n",
       "      <td>0</td>\n",
       "      <td>0.0</td>\n",
       "      <td>4</td>\n",
       "      <td>[Medium, Low]</td>\n",
       "    </tr>\n",
       "    <tr>\n",
       "      <th>21</th>\n",
       "      <td>JobSatisfaction</td>\n",
       "      <td>object</td>\n",
       "      <td>0</td>\n",
       "      <td>0.0</td>\n",
       "      <td>4</td>\n",
       "      <td>[High, Very High]</td>\n",
       "    </tr>\n",
       "    <tr>\n",
       "      <th>22</th>\n",
       "      <td>WorkLifeBalance</td>\n",
       "      <td>object</td>\n",
       "      <td>0</td>\n",
       "      <td>0.0</td>\n",
       "      <td>4</td>\n",
       "      <td>[Better, Good]</td>\n",
       "    </tr>\n",
       "    <tr>\n",
       "      <th>23</th>\n",
       "      <td>JobInvolvement</td>\n",
       "      <td>object</td>\n",
       "      <td>0</td>\n",
       "      <td>0.0</td>\n",
       "      <td>4</td>\n",
       "      <td>[Very High, Medium]</td>\n",
       "    </tr>\n",
       "    <tr>\n",
       "      <th>24</th>\n",
       "      <td>PerformanceRating</td>\n",
       "      <td>object</td>\n",
       "      <td>0</td>\n",
       "      <td>0.0</td>\n",
       "      <td>2</td>\n",
       "      <td>[Excellent, Outstanding]</td>\n",
       "    </tr>\n",
       "    <tr>\n",
       "      <th>25</th>\n",
       "      <td>Attrition</td>\n",
       "      <td>object</td>\n",
       "      <td>0</td>\n",
       "      <td>0.0</td>\n",
       "      <td>2</td>\n",
       "      <td>[No, Yes]</td>\n",
       "    </tr>\n",
       "  </tbody>\n",
       "</table>\n",
       "</div>"
      ],
      "text/plain": [
       "              data features dataType  null  nullPct  unique  \\\n",
       "0                EmployeeID    int64     0      0.0    4300   \n",
       "1                       Age    int64     0      0.0      43   \n",
       "2                    Gender   object     0      0.0       2   \n",
       "3             MaritalStatus   object     0      0.0       3   \n",
       "4                 Education   object     0      0.0       5   \n",
       "5            EducationField   object     0      0.0       6   \n",
       "6                Department   object     0      0.0       3   \n",
       "7                   JobRole   object     0      0.0       9   \n",
       "8                  JobLevel    int64     0      0.0       5   \n",
       "9             MonthlyIncome    int64     0      0.0    1349   \n",
       "10           BusinessTravel   object     0      0.0       3   \n",
       "11         DistanceFromHome    int64     0      0.0      29   \n",
       "12        PercentSalaryHike    int64     0      0.0      15   \n",
       "13         StockOptionLevel    int64     0      0.0       4   \n",
       "14       NumCompaniesWorked  float64     0      0.0      10   \n",
       "15        TotalWorkingYears  float64     0      0.0      40   \n",
       "16    TrainingTimesLastYear    int64     0      0.0       7   \n",
       "17           YearsAtCompany    int64     0      0.0      37   \n",
       "18  YearsSinceLastPromotion    int64     0      0.0      16   \n",
       "19     YearsWithCurrManager    int64     0      0.0      18   \n",
       "20  EnvironmentSatisfaction   object     0      0.0       4   \n",
       "21          JobSatisfaction   object     0      0.0       4   \n",
       "22          WorkLifeBalance   object     0      0.0       4   \n",
       "23           JobInvolvement   object     0      0.0       4   \n",
       "24        PerformanceRating   object     0      0.0       2   \n",
       "25                Attrition   object     0      0.0       2   \n",
       "\n",
       "                       uniqueSample  \n",
       "0                        [241, 820]  \n",
       "1                          [39, 55]  \n",
       "2                    [Male, Female]  \n",
       "3                 [Single, Married]  \n",
       "4           [Below College, Doctor]  \n",
       "5                  [Medical, Other]  \n",
       "6   [Research & Development, Sales]  \n",
       "7      [Research Director, Manager]  \n",
       "8                            [2, 3]  \n",
       "9                   [27430, 148140]  \n",
       "10  [Non-Travel, Travel_Frequently]  \n",
       "11                          [28, 5]  \n",
       "12                         [23, 21]  \n",
       "13                           [3, 1]  \n",
       "14                       [6.0, 8.0]  \n",
       "15                     [15.0, 13.0]  \n",
       "16                           [2, 1]  \n",
       "17                         [14, 23]  \n",
       "18                         [12, 10]  \n",
       "19                          [3, 14]  \n",
       "20                    [Medium, Low]  \n",
       "21                [High, Very High]  \n",
       "22                   [Better, Good]  \n",
       "23              [Very High, Medium]  \n",
       "24         [Excellent, Outstanding]  \n",
       "25                        [No, Yes]  "
      ]
     },
     "execution_count": 6,
     "metadata": {},
     "output_type": "execute_result"
    }
   ],
   "source": [
    "listItem = []\n",
    "\n",
    "for col in data.columns:\n",
    "    listItem.append([col, data[col].dtype, data[col].isna().sum(), round((data[col].isna().sum())/len(data[col])), \n",
    "                    data[col].nunique(), list(data[col].drop_duplicates().sample(2).values)])\n",
    "\n",
    "dfDesc = pd.DataFrame(columns=['data features', 'dataType', 'null', 'nullPct', 'unique', 'uniqueSample'], data=listItem)\n",
    "dfDesc"
   ]
  },
  {
   "cell_type": "markdown",
   "metadata": {},
   "source": [
    "The dataset is identified to be clean with no null values and each of the features have been set to the correct datatypes. There are also no anomalies in the values of the features in the dataset."
   ]
  },
  {
   "cell_type": "markdown",
   "metadata": {},
   "source": [
    "**The dataset consists of 4300  with 25 columns, that comes from 3 different sources, which are:**\n",
    "1. General Data (20 Columns)\n",
    "    - Employee ID\n",
    "    - Age\n",
    "    - Gender\n",
    "    - Marital Status\n",
    "    - Education\n",
    "    - Education Field\n",
    "    - Department\n",
    "    - Job Role\n",
    "    - Job Level\n",
    "    - Monthly Income\n",
    "    - Business Travel\n",
    "    - Distance from Home\n",
    "    - Percent Salary Hike\n",
    "    - Stock Option Level (rights to buy company's stocks)\n",
    "    - Numbers of Companies Worked with\n",
    "    - Total Working Years\n",
    "    - Training Times Last Year\n",
    "    - Years at Company\n",
    "    - Years Since Last Promotion\n",
    "    - Years with Current Manager\n",
    "    - Attrition (employee leaving)\n",
    "2. Employee Survey Data (3 Columns)\n",
    "    - Environment Satisfaction\n",
    "    - Job Satisfaction\n",
    "    - Work-Life Balance\n",
    "3. Manager Survey Data (2 Columns)\n",
    "    - Job Involvement\n",
    "    - Performance Rating"
   ]
  },
  {
   "cell_type": "markdown",
   "metadata": {},
   "source": [
    "### II.2 Correlation"
   ]
  },
  {
   "cell_type": "markdown",
   "metadata": {},
   "source": [
    "There have been found that some of the features have fairly high positive correlation between each other. The features being:\n",
    "- `Age` with `TotalWorkingYears`\n",
    "- `TotalWorkingYears` with `YearsAtCompany`\n",
    "- `YearsAtCompany` with `YearsSinceLastPromotion` and `YearsWithCurrentManager`\n",
    "- `YearsSinceLastPromotion` with `YearsWithCurrentManager`\n",
    "\n",
    "All of the features identified with correlation have values of years, which explains why they are related. When the year passes, the features that have years as their values will also will definitely be affected."
   ]
  },
  {
   "cell_type": "code",
   "execution_count": 7,
   "metadata": {},
   "outputs": [
    {
     "data": {
      "text/plain": [
       "<matplotlib.axes._subplots.AxesSubplot at 0x109bb53d0>"
      ]
     },
     "execution_count": 7,
     "metadata": {},
     "output_type": "execute_result"
    },
    {
     "data": {
      "image/png": "[encoded data removed]",
      "text/plain": [
       "<Figure size 864x432 with 2 Axes>"
      ]
     },
     "metadata": {
      "needs_background": "light"
     },
     "output_type": "display_data"
    }
   ],
   "source": [
    "plt.figure(figsize=(12,6))\n",
    "sns.heatmap(data.corr(), annot = True)"
   ]
  },
  {
   "cell_type": "markdown",
   "metadata": {},
   "source": [
    "### II.3 Data Visualization\n",
    "To further understood the data, visualizations with graphs will be made. This is done to get a better view of the data as well as the values inside each of the columns in the dataset."
   ]
  },
  {
   "cell_type": "code",
   "execution_count": 8,
   "metadata": {},
   "outputs": [
    {
     "data": {
      "text/plain": [
       "Index(['EmployeeID', 'Age', 'Gender', 'MaritalStatus', 'Education',\n",
       "       'EducationField', 'Department', 'JobRole', 'JobLevel', 'MonthlyIncome',\n",
       "       'BusinessTravel', 'DistanceFromHome', 'PercentSalaryHike',\n",
       "       'StockOptionLevel', 'NumCompaniesWorked', 'TotalWorkingYears',\n",
       "       'TrainingTimesLastYear', 'YearsAtCompany', 'YearsSinceLastPromotion',\n",
       "       'YearsWithCurrManager', 'EnvironmentSatisfaction', 'JobSatisfaction',\n",
       "       'WorkLifeBalance', 'JobInvolvement', 'PerformanceRating', 'Attrition'],\n",
       "      dtype='object')"
      ]
     },
     "execution_count": 8,
     "metadata": {},
     "output_type": "execute_result"
    }
   ],
   "source": [
    "data.columns"
   ]
  },
  {
   "cell_type": "markdown",
   "metadata": {},
   "source": [
    "### II.3.1 Personal Related\n",
    "includes `Age`, `Gender`, `MaritalStatus`, and `DistanceFromHome`"
   ]
  },
  {
   "cell_type": "markdown",
   "metadata": {},
   "source": [
    "### Age"
   ]
  },
  {
   "cell_type": "code",
   "execution_count": 9,
   "metadata": {
    "scrolled": true
   },
   "outputs": [
    {
     "name": "stdout",
     "output_type": "stream",
     "text": [
      "Age has a range from 18 to 60\n"
     ]
    }
   ],
   "source": [
    "print('Age has a range from {} to {}'.format(min(data['Age']), max(data['Age'])))"
   ]
  },
  {
   "cell_type": "code",
   "execution_count": 10,
   "metadata": {},
   "outputs": [
    {
     "data": {
      "text/plain": [
       "<matplotlib.axes._subplots.AxesSubplot at 0x1a1e924ed0>"
      ]
     },
     "execution_count": 10,
     "metadata": {},
     "output_type": "execute_result"
    },
    {
     "data": {
      "image/png": "[encoded data removed]",
      "text/plain": [
       "<Figure size 432x288 with 1 Axes>"
      ]
     },
     "metadata": {
      "needs_background": "light"
     },
     "output_type": "display_data"
    }
   ],
   "source": [
    "sns.distplot(data['Age'])"
   ]
  },
  {
   "cell_type": "code",
   "execution_count": 11,
   "metadata": {},
   "outputs": [
    {
     "data": {
      "text/plain": [
       "AndersonResult(statistic=29.532789021406643, critical_values=array([0.575, 0.655, 0.786, 0.917, 1.091]), significance_level=array([15. , 10. ,  5. ,  2.5,  1. ]))"
      ]
     },
     "execution_count": 11,
     "metadata": {},
     "output_type": "execute_result"
    }
   ],
   "source": [
    "from scipy.stats import anderson\n",
    "anderson(data['Age'],'norm')\n",
    "# critical value > significance level = bukan normal"
   ]
  },
  {
   "cell_type": "markdown",
   "metadata": {},
   "source": [
    "### Gender and MaritalStatus"
   ]
  },
  {
   "cell_type": "code",
   "execution_count": 12,
   "metadata": {},
   "outputs": [
    {
     "data": {
      "text/plain": [
       "<matplotlib.axes._subplots.AxesSubplot at 0x1a1ec47b50>"
      ]
     },
     "execution_count": 12,
     "metadata": {},
     "output_type": "execute_result"
    },
    {
     "data": {
      "image/png": "[encoded data removed]",
      "text/plain": [
       "<Figure size 936x288 with 2 Axes>"
      ]
     },
     "metadata": {
      "needs_background": "light"
     },
     "output_type": "display_data"
    }
   ],
   "source": [
    "plt.figure(figsize=(13,4))\n",
    "plt.subplot(1,2,1)\n",
    "sns.countplot(data['Gender'])\n",
    "plt.subplot(1,2,2)\n",
    "sns.countplot(data['MaritalStatus'])"
   ]
  },
  {
   "cell_type": "markdown",
   "metadata": {},
   "source": [
    "### DistanceFromHome"
   ]
  },
  {
   "cell_type": "code",
   "execution_count": 13,
   "metadata": {},
   "outputs": [
    {
     "name": "stdout",
     "output_type": "stream",
     "text": [
      "Distance from home has a range from 1 to 29\n"
     ]
    }
   ],
   "source": [
    "print('Distance from home has a range from {} to {}'.format(min(data['DistanceFromHome']), max(data['DistanceFromHome'])))"
   ]
  },
  {
   "cell_type": "code",
   "execution_count": 14,
   "metadata": {
    "scrolled": true
   },
   "outputs": [
    {
     "data": {
      "text/plain": [
       "<matplotlib.axes._subplots.AxesSubplot at 0x1a1e67f550>"
      ]
     },
     "execution_count": 14,
     "metadata": {},
     "output_type": "execute_result"
    },
    {
     "data": {
      "image/png": "[encoded data removed]",
      "text/plain": [
       "<Figure size 432x288 with 1 Axes>"
      ]
     },
     "metadata": {
      "needs_background": "light"
     },
     "output_type": "display_data"
    }
   ],
   "source": [
    "sns.distplot(data['DistanceFromHome'])"
   ]
  },
  {
   "cell_type": "markdown",
   "metadata": {},
   "source": [
    "### II.3.2 Education Related\n",
    "includes `Education` and `EducationField`"
   ]
  },
  {
   "cell_type": "code",
   "execution_count": 15,
   "metadata": {},
   "outputs": [
    {
     "data": {
      "text/plain": [
       "<matplotlib.axes._subplots.AxesSubplot at 0x1a1f061f50>"
      ]
     },
     "execution_count": 15,
     "metadata": {},
     "output_type": "execute_result"
    },
    {
     "data": {
      "image/png": "[encoded data removed]",
      "text/plain": [
       "<Figure size 936x288 with 2 Axes>"
      ]
     },
     "metadata": {
      "needs_background": "light"
     },
     "output_type": "display_data"
    }
   ],
   "source": [
    "plt.figure(figsize=(13,4))\n",
    "plt.subplot(1,2,1)\n",
    "sns.countplot(data['Education'])\n",
    "plt.subplot(1,2,2)\n",
    "sns.countplot(data['EducationField'])"
   ]
  },
  {
   "cell_type": "markdown",
   "metadata": {},
   "source": [
    "### II.3.3 Job Related\n",
    "includes `Department`, `JobRole`, `JobLevel`, and `BusinessTravel`"
   ]
  },
  {
   "cell_type": "code",
   "execution_count": 16,
   "metadata": {},
   "outputs": [
    {
     "data": {
      "text/plain": [
       "<matplotlib.axes._subplots.AxesSubplot at 0x1a1f0dd450>"
      ]
     },
     "execution_count": 16,
     "metadata": {},
     "output_type": "execute_result"
    },
    {
     "data": {
      "image/png": "[encoded data removed]",
      "text/plain": [
       "<Figure size 936x288 with 1 Axes>"
      ]
     },
     "metadata": {
      "needs_background": "light"
     },
     "output_type": "display_data"
    }
   ],
   "source": [
    "plt.figure(figsize=(13,4))\n",
    "sns.countplot(data['Department'], hue=data['JobRole'])"
   ]
  },
  {
   "cell_type": "code",
   "execution_count": 17,
   "metadata": {},
   "outputs": [
    {
     "data": {
      "text/plain": [
       "<matplotlib.axes._subplots.AxesSubplot at 0x1a1f297f90>"
      ]
     },
     "execution_count": 17,
     "metadata": {},
     "output_type": "execute_result"
    },
    {
     "data": {
      "image/png": "[encoded data removed]",
      "text/plain": [
       "<Figure size 936x288 with 2 Axes>"
      ]
     },
     "metadata": {
      "needs_background": "light"
     },
     "output_type": "display_data"
    }
   ],
   "source": [
    "plt.figure(figsize=(13,4))\n",
    "plt.subplot(1,2,1)\n",
    "sns.countplot(data['JobLevel'])\n",
    "plt.subplot(1,2,2)\n",
    "sns.countplot(data['BusinessTravel'])"
   ]
  },
  {
   "cell_type": "markdown",
   "metadata": {},
   "source": [
    "### II.3.4 Salary Related\n",
    "Includes `MonthlyIncome`, `PercentSalaryHike`, and `StockOptionLevel`"
   ]
  },
  {
   "cell_type": "code",
   "execution_count": 18,
   "metadata": {},
   "outputs": [
    {
     "name": "stdout",
     "output_type": "stream",
     "text": [
      "Monthly income has a range from 10090 to 199990\n"
     ]
    }
   ],
   "source": [
    "print('Monthly income has a range from {} to {}'.format(min(data['MonthlyIncome']), max(data['MonthlyIncome'])))"
   ]
  },
  {
   "cell_type": "code",
   "execution_count": 19,
   "metadata": {},
   "outputs": [
    {
     "data": {
      "text/plain": [
       "<matplotlib.axes._subplots.AxesSubplot at 0x1a1f503e90>"
      ]
     },
     "execution_count": 19,
     "metadata": {},
     "output_type": "execute_result"
    },
    {
     "data": {
      "image/png": "[encoded data removed]",
      "text/plain": [
       "<Figure size 936x288 with 2 Axes>"
      ]
     },
     "metadata": {
      "needs_background": "light"
     },
     "output_type": "display_data"
    }
   ],
   "source": [
    "plt.figure(figsize=(13,4))\n",
    "plt.subplot(1,2,1)\n",
    "sns.distplot(data['MonthlyIncome'])\n",
    "plt.subplot(1,2,2)\n",
    "sns.distplot(data['PercentSalaryHike'])"
   ]
  },
  {
   "cell_type": "code",
   "execution_count": 20,
   "metadata": {},
   "outputs": [
    {
     "data": {
      "text/plain": [
       "<matplotlib.axes._subplots.AxesSubplot at 0x1a1f6152d0>"
      ]
     },
     "execution_count": 20,
     "metadata": {},
     "output_type": "execute_result"
    },
    {
     "data": {
      "image/png": "[encoded data removed]",
      "text/plain": [
       "<Figure size 432x288 with 1 Axes>"
      ]
     },
     "metadata": {
      "needs_background": "light"
     },
     "output_type": "display_data"
    }
   ],
   "source": [
    "sns.countplot(data['StockOptionLevel'])"
   ]
  },
  {
   "cell_type": "markdown",
   "metadata": {},
   "source": [
    "### II.3.5 Company Related\n",
    "Includes `NumCompaniesWorked`, `TotalWorkingYears`, `TrainingTimesLastYear`, `YearsAtCompany`, `YearsSinceLastPromotion`, and `YearsWithCurrManager`"
   ]
  },
  {
   "cell_type": "code",
   "execution_count": 21,
   "metadata": {},
   "outputs": [
    {
     "data": {
      "text/plain": [
       "<matplotlib.axes._subplots.AxesSubplot at 0x1a1fb15810>"
      ]
     },
     "execution_count": 21,
     "metadata": {},
     "output_type": "execute_result"
    },
    {
     "data": {
      "image/png": "[encoded data removed]",
      "text/plain": [
       "<Figure size 1080x576 with 6 Axes>"
      ]
     },
     "metadata": {
      "needs_background": "light"
     },
     "output_type": "display_data"
    }
   ],
   "source": [
    "plt.figure(figsize=(15,8))\n",
    "plt.subplot(2,3,1)\n",
    "sns.distplot(data['NumCompaniesWorked'])\n",
    "plt.subplot(2,3,2)\n",
    "sns.distplot(data['TotalWorkingYears'])\n",
    "plt.subplot(2,3,3)\n",
    "sns.distplot(data['TrainingTimesLastYear'])\n",
    "plt.subplot(2,3,4)\n",
    "sns.distplot(data['YearsAtCompany'])\n",
    "plt.subplot(2,3,5)\n",
    "sns.distplot(data['YearsSinceLastPromotion'])\n",
    "plt.subplot(2,3,6)\n",
    "sns.distplot(data['YearsWithCurrManager'])"
   ]
  },
  {
   "cell_type": "markdown",
   "metadata": {},
   "source": [
    "### II.3.6 Job Survey Related\n",
    "Includes `EnvironmentSatisfaction`, `JobSatisfaction`, `WorkLifeBalance`, `JobInvolvement`, and `PerformanceRating`"
   ]
  },
  {
   "cell_type": "markdown",
   "metadata": {},
   "source": [
    "### Employee Survey"
   ]
  },
  {
   "cell_type": "code",
   "execution_count": 22,
   "metadata": {},
   "outputs": [
    {
     "data": {
      "text/plain": [
       "<matplotlib.axes._subplots.AxesSubplot at 0x1a201acdd0>"
      ]
     },
     "execution_count": 22,
     "metadata": {},
     "output_type": "execute_result"
    },
    {
     "data": {
      "image/png": "[encoded data removed]",
      "text/plain": [
       "<Figure size 936x288 with 3 Axes>"
      ]
     },
     "metadata": {
      "needs_background": "light"
     },
     "output_type": "display_data"
    }
   ],
   "source": [
    "plt.figure(figsize=(13,4))\n",
    "plt.subplot(1,3,1)\n",
    "sns.countplot(data['EnvironmentSatisfaction'])\n",
    "plt.subplot(1,3,2)\n",
    "sns.countplot(data['JobSatisfaction'])\n",
    "plt.subplot(1,3,3)\n",
    "sns.countplot(data['WorkLifeBalance'])"
   ]
  },
  {
   "cell_type": "markdown",
   "metadata": {},
   "source": [
    "### Manager Survey"
   ]
  },
  {
   "cell_type": "code",
   "execution_count": 23,
   "metadata": {},
   "outputs": [
    {
     "data": {
      "text/plain": [
       "<matplotlib.axes._subplots.AxesSubplot at 0x1a20282850>"
      ]
     },
     "execution_count": 23,
     "metadata": {},
     "output_type": "execute_result"
    },
    {
     "data": {
      "image/png": "[encoded data removed]",
      "text/plain": [
       "<Figure size 936x288 with 2 Axes>"
      ]
     },
     "metadata": {
      "needs_background": "light"
     },
     "output_type": "display_data"
    }
   ],
   "source": [
    "plt.figure(figsize=(13,4))\n",
    "plt.subplot(1,2,1)\n",
    "sns.countplot(data['JobInvolvement'])\n",
    "plt.subplot(1,2,2)\n",
    "sns.countplot(data['PerformanceRating'])"
   ]
  },
  {
   "cell_type": "markdown",
   "metadata": {},
   "source": [
    "### II.3.7 Attrition"
   ]
  },
  {
   "cell_type": "code",
   "execution_count": 24,
   "metadata": {
    "scrolled": true
   },
   "outputs": [
    {
     "data": {
      "text/plain": [
       "<matplotlib.axes._subplots.AxesSubplot at 0x1a203cfa90>"
      ]
     },
     "execution_count": 24,
     "metadata": {},
     "output_type": "execute_result"
    },
    {
     "data": {
      "image/png": "[encoded data removed]",
      "text/plain": [
       "<Figure size 432x288 with 1 Axes>"
      ]
     },
     "metadata": {
      "needs_background": "light"
     },
     "output_type": "display_data"
    }
   ],
   "source": [
    "sns.countplot(data['Attrition'])"
   ]
  },
  {
   "cell_type": "code",
   "execution_count": 25,
   "metadata": {},
   "outputs": [
    {
     "name": "stdout",
     "output_type": "stream",
     "text": [
      "Percentage of Yes Attrition: 16.163%\n",
      "Percentage of Yes Attrition: 83.837%\n"
     ]
    }
   ],
   "source": [
    "print('Percentage of Yes Attrition: {}%'.format(round(len(data[data['Attrition'] == 'Yes']) / len(data) * 100, 3)))\n",
    "print('Percentage of Yes Attrition: {}%'.format(round(len(data[data['Attrition'] == 'No']) / len(data) * 100, 3)))"
   ]
  },
  {
   "cell_type": "markdown",
   "metadata": {},
   "source": [
    "### III. Feature Selection\n",
    "After conducting exploratory data analysis, the next step is to continue to the feature selection process. Feature selection is a process of selecting a subset of features that are going to be used in model building."
   ]
  },
  {
   "cell_type": "markdown",
   "metadata": {},
   "source": [
    "### Target Feature (Y)\n",
    "The feature `Attrition` will be used for our target feature, because from the goal stated, we would like to identify what factors are affecting the attrition."
   ]
  },
  {
   "cell_type": "code",
   "execution_count": 26,
   "metadata": {},
   "outputs": [
    {
     "data": {
      "text/plain": [
       "0     No\n",
       "1    Yes\n",
       "2     No\n",
       "3     No\n",
       "4     No\n",
       "Name: Attrition, dtype: object"
      ]
     },
     "execution_count": 26,
     "metadata": {},
     "output_type": "execute_result"
    }
   ],
   "source": [
    "data['Attrition'].head()"
   ]
  },
  {
   "cell_type": "markdown",
   "metadata": {},
   "source": [
    "### Train Feature (X)\n",
    "The rest of the feature besides `EmployeeID` and `Attrition` in the dataset will be used for our train feature, because the company would like to analyze all of the factors from the data that have been gathered."
   ]
  },
  {
   "cell_type": "code",
   "execution_count": 27,
   "metadata": {},
   "outputs": [
    {
     "data": {
      "text/html": [
       "<div>\n",
       "<style scoped>\n",
       "    .dataframe tbody tr th:only-of-type {\n",
       "        vertical-align: middle;\n",
       "    }\n",
       "\n",
       "    .dataframe tbody tr th {\n",
       "        vertical-align: top;\n",
       "    }\n",
       "\n",
       "    .dataframe thead th {\n",
       "        text-align: right;\n",
       "    }\n",
       "</style>\n",
       "<table border=\"1\" class=\"dataframe\">\n",
       "  <thead>\n",
       "    <tr style=\"text-align: right;\">\n",
       "      <th></th>\n",
       "      <th>Age</th>\n",
       "      <th>Gender</th>\n",
       "      <th>MaritalStatus</th>\n",
       "      <th>Education</th>\n",
       "      <th>EducationField</th>\n",
       "      <th>Department</th>\n",
       "      <th>JobRole</th>\n",
       "      <th>JobLevel</th>\n",
       "      <th>MonthlyIncome</th>\n",
       "      <th>BusinessTravel</th>\n",
       "      <th>...</th>\n",
       "      <th>TotalWorkingYears</th>\n",
       "      <th>TrainingTimesLastYear</th>\n",
       "      <th>YearsAtCompany</th>\n",
       "      <th>YearsSinceLastPromotion</th>\n",
       "      <th>YearsWithCurrManager</th>\n",
       "      <th>EnvironmentSatisfaction</th>\n",
       "      <th>JobSatisfaction</th>\n",
       "      <th>WorkLifeBalance</th>\n",
       "      <th>JobInvolvement</th>\n",
       "      <th>PerformanceRating</th>\n",
       "    </tr>\n",
       "  </thead>\n",
       "  <tbody>\n",
       "    <tr>\n",
       "      <th>0</th>\n",
       "      <td>51</td>\n",
       "      <td>Female</td>\n",
       "      <td>Married</td>\n",
       "      <td>College</td>\n",
       "      <td>Life Sciences</td>\n",
       "      <td>Sales</td>\n",
       "      <td>Healthcare Representative</td>\n",
       "      <td>1</td>\n",
       "      <td>131160</td>\n",
       "      <td>Travel_Rarely</td>\n",
       "      <td>...</td>\n",
       "      <td>1.0</td>\n",
       "      <td>6</td>\n",
       "      <td>1</td>\n",
       "      <td>0</td>\n",
       "      <td>0</td>\n",
       "      <td>High</td>\n",
       "      <td>Very High</td>\n",
       "      <td>Good</td>\n",
       "      <td>High</td>\n",
       "      <td>Excellent</td>\n",
       "    </tr>\n",
       "    <tr>\n",
       "      <th>1</th>\n",
       "      <td>31</td>\n",
       "      <td>Female</td>\n",
       "      <td>Single</td>\n",
       "      <td>Below College</td>\n",
       "      <td>Life Sciences</td>\n",
       "      <td>Research &amp; Development</td>\n",
       "      <td>Research Scientist</td>\n",
       "      <td>1</td>\n",
       "      <td>41890</td>\n",
       "      <td>Travel_Frequently</td>\n",
       "      <td>...</td>\n",
       "      <td>6.0</td>\n",
       "      <td>3</td>\n",
       "      <td>5</td>\n",
       "      <td>1</td>\n",
       "      <td>4</td>\n",
       "      <td>High</td>\n",
       "      <td>Medium</td>\n",
       "      <td>Best</td>\n",
       "      <td>Medium</td>\n",
       "      <td>Outstanding</td>\n",
       "    </tr>\n",
       "    <tr>\n",
       "      <th>2</th>\n",
       "      <td>32</td>\n",
       "      <td>Male</td>\n",
       "      <td>Married</td>\n",
       "      <td>Master</td>\n",
       "      <td>Other</td>\n",
       "      <td>Research &amp; Development</td>\n",
       "      <td>Sales Executive</td>\n",
       "      <td>4</td>\n",
       "      <td>193280</td>\n",
       "      <td>Travel_Frequently</td>\n",
       "      <td>...</td>\n",
       "      <td>5.0</td>\n",
       "      <td>2</td>\n",
       "      <td>5</td>\n",
       "      <td>0</td>\n",
       "      <td>3</td>\n",
       "      <td>Medium</td>\n",
       "      <td>Medium</td>\n",
       "      <td>Bad</td>\n",
       "      <td>High</td>\n",
       "      <td>Excellent</td>\n",
       "    </tr>\n",
       "    <tr>\n",
       "      <th>3</th>\n",
       "      <td>38</td>\n",
       "      <td>Male</td>\n",
       "      <td>Married</td>\n",
       "      <td>Doctor</td>\n",
       "      <td>Life Sciences</td>\n",
       "      <td>Research &amp; Development</td>\n",
       "      <td>Human Resources</td>\n",
       "      <td>3</td>\n",
       "      <td>83210</td>\n",
       "      <td>Non-Travel</td>\n",
       "      <td>...</td>\n",
       "      <td>13.0</td>\n",
       "      <td>5</td>\n",
       "      <td>8</td>\n",
       "      <td>7</td>\n",
       "      <td>5</td>\n",
       "      <td>Very High</td>\n",
       "      <td>Very High</td>\n",
       "      <td>Better</td>\n",
       "      <td>Medium</td>\n",
       "      <td>Excellent</td>\n",
       "    </tr>\n",
       "    <tr>\n",
       "      <th>4</th>\n",
       "      <td>32</td>\n",
       "      <td>Male</td>\n",
       "      <td>Single</td>\n",
       "      <td>Below College</td>\n",
       "      <td>Medical</td>\n",
       "      <td>Research &amp; Development</td>\n",
       "      <td>Sales Executive</td>\n",
       "      <td>1</td>\n",
       "      <td>23420</td>\n",
       "      <td>Travel_Rarely</td>\n",
       "      <td>...</td>\n",
       "      <td>9.0</td>\n",
       "      <td>2</td>\n",
       "      <td>6</td>\n",
       "      <td>0</td>\n",
       "      <td>4</td>\n",
       "      <td>Very High</td>\n",
       "      <td>Low</td>\n",
       "      <td>Better</td>\n",
       "      <td>High</td>\n",
       "      <td>Excellent</td>\n",
       "    </tr>\n",
       "  </tbody>\n",
       "</table>\n",
       "<p>5 rows × 24 columns</p>\n",
       "</div>"
      ],
      "text/plain": [
       "   Age  Gender MaritalStatus      Education EducationField  \\\n",
       "0   51  Female       Married        College  Life Sciences   \n",
       "1   31  Female        Single  Below College  Life Sciences   \n",
       "2   32    Male       Married         Master          Other   \n",
       "3   38    Male       Married         Doctor  Life Sciences   \n",
       "4   32    Male        Single  Below College        Medical   \n",
       "\n",
       "               Department                    JobRole  JobLevel  MonthlyIncome  \\\n",
       "0                   Sales  Healthcare Representative         1         131160   \n",
       "1  Research & Development         Research Scientist         1          41890   \n",
       "2  Research & Development            Sales Executive         4         193280   \n",
       "3  Research & Development            Human Resources         3          83210   \n",
       "4  Research & Development            Sales Executive         1          23420   \n",
       "\n",
       "      BusinessTravel  ...  TotalWorkingYears  TrainingTimesLastYear  \\\n",
       "0      Travel_Rarely  ...                1.0                      6   \n",
       "1  Travel_Frequently  ...                6.0                      3   \n",
       "2  Travel_Frequently  ...                5.0                      2   \n",
       "3         Non-Travel  ...               13.0                      5   \n",
       "4      Travel_Rarely  ...                9.0                      2   \n",
       "\n",
       "   YearsAtCompany  YearsSinceLastPromotion  YearsWithCurrManager  \\\n",
       "0               1                        0                     0   \n",
       "1               5                        1                     4   \n",
       "2               5                        0                     3   \n",
       "3               8                        7                     5   \n",
       "4               6                        0                     4   \n",
       "\n",
       "   EnvironmentSatisfaction  JobSatisfaction  WorkLifeBalance  JobInvolvement  \\\n",
       "0                     High        Very High             Good            High   \n",
       "1                     High           Medium             Best          Medium   \n",
       "2                   Medium           Medium              Bad            High   \n",
       "3                Very High        Very High           Better          Medium   \n",
       "4                Very High              Low           Better            High   \n",
       "\n",
       "  PerformanceRating  \n",
       "0         Excellent  \n",
       "1       Outstanding  \n",
       "2         Excellent  \n",
       "3         Excellent  \n",
       "4         Excellent  \n",
       "\n",
       "[5 rows x 24 columns]"
      ]
     },
     "execution_count": 27,
     "metadata": {},
     "output_type": "execute_result"
    }
   ],
   "source": [
    "data.drop(['EmployeeID', 'Attrition'], axis = 1).head()"
   ]
  },
  {
   "cell_type": "markdown",
   "metadata": {},
   "source": [
    "### IV. Data Preprocessing\n",
    "In data preprocessing, the insights that were found in exploratory data analysis is then continued by doing further analysis. This process is done to ensure that the data that we have will be ready to be used in model building."
   ]
  },
  {
   "cell_type": "markdown",
   "metadata": {},
   "source": [
    "### IV.1 Feature Engineering\n",
    "Due to some of the features are categorical datas, feature engineering is conducted to change the datatype into numerical values. The categorical features that will be changed into numerical datas are `Gender`, `MaritalStatus`, `Education`, `EducationField`, `Department`, `JobRole`, `BusinessTravel`, `EnvironmentSatisfaction`, `JobSatisfaction`, `WorkLifeBalance`, `JobInvolvement`, `PerformanceRating`, and `Attrition`."
   ]
  },
  {
   "cell_type": "code",
   "execution_count": 28,
   "metadata": {},
   "outputs": [],
   "source": [
    "def ChangeLabel(col, ul):\n",
    "    temp = []\n",
    "    for i in range(len(data)):\n",
    "        for j in range(len(ul)):\n",
    "            if data[col][i] == ul[j]:\n",
    "                temp.append(j)\n",
    "            else:\n",
    "                pass\n",
    "    data[col] = temp\n",
    "    temp = []"
   ]
  },
  {
   "cell_type": "code",
   "execution_count": 29,
   "metadata": {},
   "outputs": [],
   "source": [
    "ChangeLabel('Gender', ['Male', 'Female'])\n",
    "ChangeLabel('MaritalStatus', ['Single', 'Married','Divorced'])\n",
    "ChangeLabel('Education', ['Below College', 'College', 'Bachelor', 'Master', 'Doctor'])\n",
    "ChangeLabel('EducationField', data['EducationField'].unique())\n",
    "ChangeLabel('Department', data['Department'].unique())\n",
    "ChangeLabel('JobRole', data['JobRole'].unique())\n",
    "ChangeLabel('BusinessTravel', ['Non-Travel', 'Travel_Rarely', 'Travel_Frequently'])\n",
    "ChangeLabel('EnvironmentSatisfaction', ['Low', 'Medium', 'High', 'Very High'])\n",
    "ChangeLabel('JobSatisfaction', ['Low', 'Medium', 'High', 'Very High'])\n",
    "ChangeLabel('WorkLifeBalance', ['Bad', 'Better', 'Good', 'Best'])\n",
    "ChangeLabel('JobInvolvement', ['Low', 'Medium', 'High', 'Very High'])\n",
    "ChangeLabel('PerformanceRating', ['Excellent', 'Outstanding'])\n",
    "ChangeLabel('Attrition', ['No', 'Yes'])"
   ]
  },
  {
   "cell_type": "code",
   "execution_count": 30,
   "metadata": {},
   "outputs": [
    {
     "data": {
      "text/html": [
       "<div>\n",
       "<style scoped>\n",
       "    .dataframe tbody tr th:only-of-type {\n",
       "        vertical-align: middle;\n",
       "    }\n",
       "\n",
       "    .dataframe tbody tr th {\n",
       "        vertical-align: top;\n",
       "    }\n",
       "\n",
       "    .dataframe thead th {\n",
       "        text-align: right;\n",
       "    }\n",
       "</style>\n",
       "<table border=\"1\" class=\"dataframe\">\n",
       "  <thead>\n",
       "    <tr style=\"text-align: right;\">\n",
       "      <th></th>\n",
       "      <th>EmployeeID</th>\n",
       "      <th>Age</th>\n",
       "      <th>Gender</th>\n",
       "      <th>MaritalStatus</th>\n",
       "      <th>Education</th>\n",
       "      <th>EducationField</th>\n",
       "      <th>Department</th>\n",
       "      <th>JobRole</th>\n",
       "      <th>JobLevel</th>\n",
       "      <th>MonthlyIncome</th>\n",
       "      <th>...</th>\n",
       "      <th>TrainingTimesLastYear</th>\n",
       "      <th>YearsAtCompany</th>\n",
       "      <th>YearsSinceLastPromotion</th>\n",
       "      <th>YearsWithCurrManager</th>\n",
       "      <th>EnvironmentSatisfaction</th>\n",
       "      <th>JobSatisfaction</th>\n",
       "      <th>WorkLifeBalance</th>\n",
       "      <th>JobInvolvement</th>\n",
       "      <th>PerformanceRating</th>\n",
       "      <th>Attrition</th>\n",
       "    </tr>\n",
       "  </thead>\n",
       "  <tbody>\n",
       "    <tr>\n",
       "      <th>0</th>\n",
       "      <td>1</td>\n",
       "      <td>51</td>\n",
       "      <td>1</td>\n",
       "      <td>1</td>\n",
       "      <td>1</td>\n",
       "      <td>0</td>\n",
       "      <td>0</td>\n",
       "      <td>0</td>\n",
       "      <td>1</td>\n",
       "      <td>131160</td>\n",
       "      <td>...</td>\n",
       "      <td>6</td>\n",
       "      <td>1</td>\n",
       "      <td>0</td>\n",
       "      <td>0</td>\n",
       "      <td>2</td>\n",
       "      <td>3</td>\n",
       "      <td>2</td>\n",
       "      <td>2</td>\n",
       "      <td>0</td>\n",
       "      <td>0</td>\n",
       "    </tr>\n",
       "    <tr>\n",
       "      <th>1</th>\n",
       "      <td>2</td>\n",
       "      <td>31</td>\n",
       "      <td>1</td>\n",
       "      <td>0</td>\n",
       "      <td>0</td>\n",
       "      <td>0</td>\n",
       "      <td>1</td>\n",
       "      <td>1</td>\n",
       "      <td>1</td>\n",
       "      <td>41890</td>\n",
       "      <td>...</td>\n",
       "      <td>3</td>\n",
       "      <td>5</td>\n",
       "      <td>1</td>\n",
       "      <td>4</td>\n",
       "      <td>2</td>\n",
       "      <td>1</td>\n",
       "      <td>3</td>\n",
       "      <td>1</td>\n",
       "      <td>1</td>\n",
       "      <td>1</td>\n",
       "    </tr>\n",
       "    <tr>\n",
       "      <th>2</th>\n",
       "      <td>3</td>\n",
       "      <td>32</td>\n",
       "      <td>0</td>\n",
       "      <td>1</td>\n",
       "      <td>3</td>\n",
       "      <td>1</td>\n",
       "      <td>1</td>\n",
       "      <td>2</td>\n",
       "      <td>4</td>\n",
       "      <td>193280</td>\n",
       "      <td>...</td>\n",
       "      <td>2</td>\n",
       "      <td>5</td>\n",
       "      <td>0</td>\n",
       "      <td>3</td>\n",
       "      <td>1</td>\n",
       "      <td>1</td>\n",
       "      <td>0</td>\n",
       "      <td>2</td>\n",
       "      <td>0</td>\n",
       "      <td>0</td>\n",
       "    </tr>\n",
       "    <tr>\n",
       "      <th>3</th>\n",
       "      <td>4</td>\n",
       "      <td>38</td>\n",
       "      <td>0</td>\n",
       "      <td>1</td>\n",
       "      <td>4</td>\n",
       "      <td>0</td>\n",
       "      <td>1</td>\n",
       "      <td>3</td>\n",
       "      <td>3</td>\n",
       "      <td>83210</td>\n",
       "      <td>...</td>\n",
       "      <td>5</td>\n",
       "      <td>8</td>\n",
       "      <td>7</td>\n",
       "      <td>5</td>\n",
       "      <td>3</td>\n",
       "      <td>3</td>\n",
       "      <td>1</td>\n",
       "      <td>1</td>\n",
       "      <td>0</td>\n",
       "      <td>0</td>\n",
       "    </tr>\n",
       "    <tr>\n",
       "      <th>4</th>\n",
       "      <td>5</td>\n",
       "      <td>32</td>\n",
       "      <td>0</td>\n",
       "      <td>0</td>\n",
       "      <td>0</td>\n",
       "      <td>2</td>\n",
       "      <td>1</td>\n",
       "      <td>2</td>\n",
       "      <td>1</td>\n",
       "      <td>23420</td>\n",
       "      <td>...</td>\n",
       "      <td>2</td>\n",
       "      <td>6</td>\n",
       "      <td>0</td>\n",
       "      <td>4</td>\n",
       "      <td>3</td>\n",
       "      <td>0</td>\n",
       "      <td>1</td>\n",
       "      <td>2</td>\n",
       "      <td>0</td>\n",
       "      <td>0</td>\n",
       "    </tr>\n",
       "  </tbody>\n",
       "</table>\n",
       "<p>5 rows × 26 columns</p>\n",
       "</div>"
      ],
      "text/plain": [
       "   EmployeeID  Age  Gender  MaritalStatus  Education  EducationField  \\\n",
       "0           1   51       1              1          1               0   \n",
       "1           2   31       1              0          0               0   \n",
       "2           3   32       0              1          3               1   \n",
       "3           4   38       0              1          4               0   \n",
       "4           5   32       0              0          0               2   \n",
       "\n",
       "   Department  JobRole  JobLevel  MonthlyIncome  ...  TrainingTimesLastYear  \\\n",
       "0           0        0         1         131160  ...                      6   \n",
       "1           1        1         1          41890  ...                      3   \n",
       "2           1        2         4         193280  ...                      2   \n",
       "3           1        3         3          83210  ...                      5   \n",
       "4           1        2         1          23420  ...                      2   \n",
       "\n",
       "   YearsAtCompany  YearsSinceLastPromotion  YearsWithCurrManager  \\\n",
       "0               1                        0                     0   \n",
       "1               5                        1                     4   \n",
       "2               5                        0                     3   \n",
       "3               8                        7                     5   \n",
       "4               6                        0                     4   \n",
       "\n",
       "   EnvironmentSatisfaction  JobSatisfaction  WorkLifeBalance  JobInvolvement  \\\n",
       "0                        2                3                2               2   \n",
       "1                        2                1                3               1   \n",
       "2                        1                1                0               2   \n",
       "3                        3                3                1               1   \n",
       "4                        3                0                1               2   \n",
       "\n",
       "   PerformanceRating  Attrition  \n",
       "0                  0          0  \n",
       "1                  1          1  \n",
       "2                  0          0  \n",
       "3                  0          0  \n",
       "4                  0          0  \n",
       "\n",
       "[5 rows x 26 columns]"
      ]
     },
     "execution_count": 30,
     "metadata": {},
     "output_type": "execute_result"
    }
   ],
   "source": [
    "data.head()"
   ]
  },
  {
   "cell_type": "markdown",
   "metadata": {},
   "source": [
    "### IV.2 Fixing Multicollinearity\n",
    "Multicollinearity occurs when two or more independent variables are highly correlated with one another. Multicollinearity could occur when new variables are created which are dependent on other variables."
   ]
  },
  {
   "cell_type": "code",
   "execution_count": 31,
   "metadata": {},
   "outputs": [],
   "source": [
    "x = data.drop(['EmployeeID', 'Attrition'], axis = 1)"
   ]
  },
  {
   "cell_type": "code",
   "execution_count": 43,
   "metadata": {},
   "outputs": [
    {
     "data": {
      "text/plain": [
       "<matplotlib.axes._subplots.AxesSubplot at 0x1a2035f610>"
      ]
     },
     "execution_count": 43,
     "metadata": {},
     "output_type": "execute_result"
    },
    {
     "data": {
      "image/png": "[encoded data removed]",
      "text/plain": [
       "<Figure size 864x432 with 2 Axes>"
      ]
     },
     "metadata": {
      "needs_background": "light"
     },
     "output_type": "display_data"
    }
   ],
   "source": [
    "plt.figure(figsize=(12,6))\n",
    "sns.heatmap(x.corr())"
   ]
  },
  {
   "cell_type": "code",
   "execution_count": 32,
   "metadata": {},
   "outputs": [],
   "source": [
    "from statsmodels.stats.outliers_influence import variance_inflation_factor"
   ]
  },
  {
   "cell_type": "code",
   "execution_count": 33,
   "metadata": {},
   "outputs": [],
   "source": [
    "def calc_vif(x):\n",
    "    vif = pd.DataFrame()\n",
    "    vif[\"variables\"] = x.columns\n",
    "    vif[\"VIF\"] = [variance_inflation_factor(x.values, i) for i in range(x.shape[1])]\n",
    "    return(vif)"
   ]
  },
  {
   "cell_type": "code",
   "execution_count": 34,
   "metadata": {},
   "outputs": [
    {
     "data": {
      "text/html": [
       "<div>\n",
       "<style scoped>\n",
       "    .dataframe tbody tr th:only-of-type {\n",
       "        vertical-align: middle;\n",
       "    }\n",
       "\n",
       "    .dataframe tbody tr th {\n",
       "        vertical-align: top;\n",
       "    }\n",
       "\n",
       "    .dataframe thead th {\n",
       "        text-align: right;\n",
       "    }\n",
       "</style>\n",
       "<table border=\"1\" class=\"dataframe\">\n",
       "  <thead>\n",
       "    <tr style=\"text-align: right;\">\n",
       "      <th></th>\n",
       "      <th>variables</th>\n",
       "      <th>VIF</th>\n",
       "    </tr>\n",
       "  </thead>\n",
       "  <tbody>\n",
       "    <tr>\n",
       "      <th>0</th>\n",
       "      <td>Age</td>\n",
       "      <td>28.635671</td>\n",
       "    </tr>\n",
       "    <tr>\n",
       "      <th>1</th>\n",
       "      <td>Gender</td>\n",
       "      <td>1.704618</td>\n",
       "    </tr>\n",
       "    <tr>\n",
       "      <th>2</th>\n",
       "      <td>MaritalStatus</td>\n",
       "      <td>2.563984</td>\n",
       "    </tr>\n",
       "    <tr>\n",
       "      <th>3</th>\n",
       "      <td>Education</td>\n",
       "      <td>4.321314</td>\n",
       "    </tr>\n",
       "    <tr>\n",
       "      <th>4</th>\n",
       "      <td>EducationField</td>\n",
       "      <td>2.037689</td>\n",
       "    </tr>\n",
       "    <tr>\n",
       "      <th>5</th>\n",
       "      <td>Department</td>\n",
       "      <td>2.913555</td>\n",
       "    </tr>\n",
       "    <tr>\n",
       "      <th>6</th>\n",
       "      <td>JobRole</td>\n",
       "      <td>2.960325</td>\n",
       "    </tr>\n",
       "    <tr>\n",
       "      <th>7</th>\n",
       "      <td>JobLevel</td>\n",
       "      <td>4.426957</td>\n",
       "    </tr>\n",
       "    <tr>\n",
       "      <th>8</th>\n",
       "      <td>MonthlyIncome</td>\n",
       "      <td>2.938616</td>\n",
       "    </tr>\n",
       "    <tr>\n",
       "      <th>9</th>\n",
       "      <td>BusinessTravel</td>\n",
       "      <td>4.944114</td>\n",
       "    </tr>\n",
       "    <tr>\n",
       "      <th>10</th>\n",
       "      <td>DistanceFromHome</td>\n",
       "      <td>2.290407</td>\n",
       "    </tr>\n",
       "    <tr>\n",
       "      <th>11</th>\n",
       "      <td>PercentSalaryHike</td>\n",
       "      <td>28.703637</td>\n",
       "    </tr>\n",
       "    <tr>\n",
       "      <th>12</th>\n",
       "      <td>StockOptionLevel</td>\n",
       "      <td>1.898793</td>\n",
       "    </tr>\n",
       "    <tr>\n",
       "      <th>13</th>\n",
       "      <td>NumCompaniesWorked</td>\n",
       "      <td>2.716191</td>\n",
       "    </tr>\n",
       "    <tr>\n",
       "      <th>14</th>\n",
       "      <td>TotalWorkingYears</td>\n",
       "      <td>9.325641</td>\n",
       "    </tr>\n",
       "    <tr>\n",
       "      <th>15</th>\n",
       "      <td>TrainingTimesLastYear</td>\n",
       "      <td>5.416918</td>\n",
       "    </tr>\n",
       "    <tr>\n",
       "      <th>16</th>\n",
       "      <td>YearsAtCompany</td>\n",
       "      <td>9.218619</td>\n",
       "    </tr>\n",
       "    <tr>\n",
       "      <th>17</th>\n",
       "      <td>YearsSinceLastPromotion</td>\n",
       "      <td>2.412057</td>\n",
       "    </tr>\n",
       "    <tr>\n",
       "      <th>18</th>\n",
       "      <td>YearsWithCurrManager</td>\n",
       "      <td>5.775370</td>\n",
       "    </tr>\n",
       "    <tr>\n",
       "      <th>19</th>\n",
       "      <td>EnvironmentSatisfaction</td>\n",
       "      <td>3.407583</td>\n",
       "    </tr>\n",
       "    <tr>\n",
       "      <th>20</th>\n",
       "      <td>JobSatisfaction</td>\n",
       "      <td>3.421617</td>\n",
       "    </tr>\n",
       "    <tr>\n",
       "      <th>21</th>\n",
       "      <td>WorkLifeBalance</td>\n",
       "      <td>4.317452</td>\n",
       "    </tr>\n",
       "    <tr>\n",
       "      <th>22</th>\n",
       "      <td>JobInvolvement</td>\n",
       "      <td>6.584070</td>\n",
       "    </tr>\n",
       "    <tr>\n",
       "      <th>23</th>\n",
       "      <td>PerformanceRating</td>\n",
       "      <td>2.408308</td>\n",
       "    </tr>\n",
       "  </tbody>\n",
       "</table>\n",
       "</div>"
      ],
      "text/plain": [
       "                  variables        VIF\n",
       "0                       Age  28.635671\n",
       "1                    Gender   1.704618\n",
       "2             MaritalStatus   2.563984\n",
       "3                 Education   4.321314\n",
       "4            EducationField   2.037689\n",
       "5                Department   2.913555\n",
       "6                   JobRole   2.960325\n",
       "7                  JobLevel   4.426957\n",
       "8             MonthlyIncome   2.938616\n",
       "9            BusinessTravel   4.944114\n",
       "10         DistanceFromHome   2.290407\n",
       "11        PercentSalaryHike  28.703637\n",
       "12         StockOptionLevel   1.898793\n",
       "13       NumCompaniesWorked   2.716191\n",
       "14        TotalWorkingYears   9.325641\n",
       "15    TrainingTimesLastYear   5.416918\n",
       "16           YearsAtCompany   9.218619\n",
       "17  YearsSinceLastPromotion   2.412057\n",
       "18     YearsWithCurrManager   5.775370\n",
       "19  EnvironmentSatisfaction   3.407583\n",
       "20          JobSatisfaction   3.421617\n",
       "21          WorkLifeBalance   4.317452\n",
       "22           JobInvolvement   6.584070\n",
       "23        PerformanceRating   2.408308"
      ]
     },
     "execution_count": 34,
     "metadata": {},
     "output_type": "execute_result"
    }
   ],
   "source": [
    "calc_vif(x)"
   ]
  },
  {
   "cell_type": "code",
   "execution_count": 35,
   "metadata": {},
   "outputs": [
    {
     "data": {
      "text/html": [
       "<div>\n",
       "<style scoped>\n",
       "    .dataframe tbody tr th:only-of-type {\n",
       "        vertical-align: middle;\n",
       "    }\n",
       "\n",
       "    .dataframe tbody tr th {\n",
       "        vertical-align: top;\n",
       "    }\n",
       "\n",
       "    .dataframe thead th {\n",
       "        text-align: right;\n",
       "    }\n",
       "</style>\n",
       "<table border=\"1\" class=\"dataframe\">\n",
       "  <thead>\n",
       "    <tr style=\"text-align: right;\">\n",
       "      <th></th>\n",
       "      <th>variables</th>\n",
       "      <th>VIF</th>\n",
       "    </tr>\n",
       "  </thead>\n",
       "  <tbody>\n",
       "    <tr>\n",
       "      <th>0</th>\n",
       "      <td>Gender</td>\n",
       "      <td>1.679652</td>\n",
       "    </tr>\n",
       "    <tr>\n",
       "      <th>1</th>\n",
       "      <td>MaritalStatus</td>\n",
       "      <td>2.458885</td>\n",
       "    </tr>\n",
       "    <tr>\n",
       "      <th>2</th>\n",
       "      <td>Education</td>\n",
       "      <td>4.064102</td>\n",
       "    </tr>\n",
       "    <tr>\n",
       "      <th>3</th>\n",
       "      <td>EducationField</td>\n",
       "      <td>1.998883</td>\n",
       "    </tr>\n",
       "    <tr>\n",
       "      <th>4</th>\n",
       "      <td>Department</td>\n",
       "      <td>2.777370</td>\n",
       "    </tr>\n",
       "    <tr>\n",
       "      <th>5</th>\n",
       "      <td>JobRole</td>\n",
       "      <td>2.788699</td>\n",
       "    </tr>\n",
       "    <tr>\n",
       "      <th>6</th>\n",
       "      <td>JobLevel</td>\n",
       "      <td>4.092385</td>\n",
       "    </tr>\n",
       "    <tr>\n",
       "      <th>7</th>\n",
       "      <td>MonthlyIncome</td>\n",
       "      <td>2.824310</td>\n",
       "    </tr>\n",
       "    <tr>\n",
       "      <th>8</th>\n",
       "      <td>BusinessTravel</td>\n",
       "      <td>4.501551</td>\n",
       "    </tr>\n",
       "    <tr>\n",
       "      <th>9</th>\n",
       "      <td>DistanceFromHome</td>\n",
       "      <td>2.208713</td>\n",
       "    </tr>\n",
       "    <tr>\n",
       "      <th>10</th>\n",
       "      <td>StockOptionLevel</td>\n",
       "      <td>1.839918</td>\n",
       "    </tr>\n",
       "    <tr>\n",
       "      <th>11</th>\n",
       "      <td>NumCompaniesWorked</td>\n",
       "      <td>2.106207</td>\n",
       "    </tr>\n",
       "    <tr>\n",
       "      <th>12</th>\n",
       "      <td>YearsSinceLastPromotion</td>\n",
       "      <td>1.467290</td>\n",
       "    </tr>\n",
       "    <tr>\n",
       "      <th>13</th>\n",
       "      <td>EnvironmentSatisfaction</td>\n",
       "      <td>3.205551</td>\n",
       "    </tr>\n",
       "    <tr>\n",
       "      <th>14</th>\n",
       "      <td>JobSatisfaction</td>\n",
       "      <td>3.223287</td>\n",
       "    </tr>\n",
       "    <tr>\n",
       "      <th>15</th>\n",
       "      <td>WorkLifeBalance</td>\n",
       "      <td>4.027740</td>\n",
       "    </tr>\n",
       "    <tr>\n",
       "      <th>16</th>\n",
       "      <td>PerformanceRating</td>\n",
       "      <td>1.194044</td>\n",
       "    </tr>\n",
       "  </tbody>\n",
       "</table>\n",
       "</div>"
      ],
      "text/plain": [
       "                  variables       VIF\n",
       "0                    Gender  1.679652\n",
       "1             MaritalStatus  2.458885\n",
       "2                 Education  4.064102\n",
       "3            EducationField  1.998883\n",
       "4                Department  2.777370\n",
       "5                   JobRole  2.788699\n",
       "6                  JobLevel  4.092385\n",
       "7             MonthlyIncome  2.824310\n",
       "8            BusinessTravel  4.501551\n",
       "9          DistanceFromHome  2.208713\n",
       "10         StockOptionLevel  1.839918\n",
       "11       NumCompaniesWorked  2.106207\n",
       "12  YearsSinceLastPromotion  1.467290\n",
       "13  EnvironmentSatisfaction  3.205551\n",
       "14          JobSatisfaction  3.223287\n",
       "15          WorkLifeBalance  4.027740\n",
       "16        PerformanceRating  1.194044"
      ]
     },
     "execution_count": 35,
     "metadata": {},
     "output_type": "execute_result"
    }
   ],
   "source": [
    "x_alt = x.drop(['Age', 'PercentSalaryHike', 'TotalWorkingYears', 'TrainingTimesLastYear', 'YearsAtCompany', 'YearsWithCurrManager', 'JobInvolvement'], axis = 1)\n",
    "calc_vif(x_alt)"
   ]
  },
  {
   "cell_type": "code",
   "execution_count": 36,
   "metadata": {},
   "outputs": [],
   "source": [
    "data = data.drop(['Age', 'PercentSalaryHike', 'TotalWorkingYears', 'TrainingTimesLastYear', 'YearsAtCompany', 'YearsWithCurrManager', 'JobInvolvement'], axis = 1)"
   ]
  },
  {
   "cell_type": "code",
   "execution_count": 37,
   "metadata": {},
   "outputs": [
    {
     "data": {
      "text/html": [
       "<div>\n",
       "<style scoped>\n",
       "    .dataframe tbody tr th:only-of-type {\n",
       "        vertical-align: middle;\n",
       "    }\n",
       "\n",
       "    .dataframe tbody tr th {\n",
       "        vertical-align: top;\n",
       "    }\n",
       "\n",
       "    .dataframe thead th {\n",
       "        text-align: right;\n",
       "    }\n",
       "</style>\n",
       "<table border=\"1\" class=\"dataframe\">\n",
       "  <thead>\n",
       "    <tr style=\"text-align: right;\">\n",
       "      <th></th>\n",
       "      <th>EmployeeID</th>\n",
       "      <th>Gender</th>\n",
       "      <th>MaritalStatus</th>\n",
       "      <th>Education</th>\n",
       "      <th>EducationField</th>\n",
       "      <th>Department</th>\n",
       "      <th>JobRole</th>\n",
       "      <th>JobLevel</th>\n",
       "      <th>MonthlyIncome</th>\n",
       "      <th>BusinessTravel</th>\n",
       "      <th>DistanceFromHome</th>\n",
       "      <th>StockOptionLevel</th>\n",
       "      <th>NumCompaniesWorked</th>\n",
       "      <th>YearsSinceLastPromotion</th>\n",
       "      <th>EnvironmentSatisfaction</th>\n",
       "      <th>JobSatisfaction</th>\n",
       "      <th>WorkLifeBalance</th>\n",
       "      <th>PerformanceRating</th>\n",
       "      <th>Attrition</th>\n",
       "    </tr>\n",
       "  </thead>\n",
       "  <tbody>\n",
       "    <tr>\n",
       "      <th>0</th>\n",
       "      <td>1</td>\n",
       "      <td>1</td>\n",
       "      <td>1</td>\n",
       "      <td>1</td>\n",
       "      <td>0</td>\n",
       "      <td>0</td>\n",
       "      <td>0</td>\n",
       "      <td>1</td>\n",
       "      <td>131160</td>\n",
       "      <td>1</td>\n",
       "      <td>6</td>\n",
       "      <td>0</td>\n",
       "      <td>1.0</td>\n",
       "      <td>0</td>\n",
       "      <td>2</td>\n",
       "      <td>3</td>\n",
       "      <td>2</td>\n",
       "      <td>0</td>\n",
       "      <td>0</td>\n",
       "    </tr>\n",
       "    <tr>\n",
       "      <th>1</th>\n",
       "      <td>2</td>\n",
       "      <td>1</td>\n",
       "      <td>0</td>\n",
       "      <td>0</td>\n",
       "      <td>0</td>\n",
       "      <td>1</td>\n",
       "      <td>1</td>\n",
       "      <td>1</td>\n",
       "      <td>41890</td>\n",
       "      <td>2</td>\n",
       "      <td>10</td>\n",
       "      <td>1</td>\n",
       "      <td>0.0</td>\n",
       "      <td>1</td>\n",
       "      <td>2</td>\n",
       "      <td>1</td>\n",
       "      <td>3</td>\n",
       "      <td>1</td>\n",
       "      <td>1</td>\n",
       "    </tr>\n",
       "    <tr>\n",
       "      <th>2</th>\n",
       "      <td>3</td>\n",
       "      <td>0</td>\n",
       "      <td>1</td>\n",
       "      <td>3</td>\n",
       "      <td>1</td>\n",
       "      <td>1</td>\n",
       "      <td>2</td>\n",
       "      <td>4</td>\n",
       "      <td>193280</td>\n",
       "      <td>2</td>\n",
       "      <td>17</td>\n",
       "      <td>3</td>\n",
       "      <td>1.0</td>\n",
       "      <td>0</td>\n",
       "      <td>1</td>\n",
       "      <td>1</td>\n",
       "      <td>0</td>\n",
       "      <td>0</td>\n",
       "      <td>0</td>\n",
       "    </tr>\n",
       "    <tr>\n",
       "      <th>3</th>\n",
       "      <td>4</td>\n",
       "      <td>0</td>\n",
       "      <td>1</td>\n",
       "      <td>4</td>\n",
       "      <td>0</td>\n",
       "      <td>1</td>\n",
       "      <td>3</td>\n",
       "      <td>3</td>\n",
       "      <td>83210</td>\n",
       "      <td>0</td>\n",
       "      <td>2</td>\n",
       "      <td>3</td>\n",
       "      <td>3.0</td>\n",
       "      <td>7</td>\n",
       "      <td>3</td>\n",
       "      <td>3</td>\n",
       "      <td>1</td>\n",
       "      <td>0</td>\n",
       "      <td>0</td>\n",
       "    </tr>\n",
       "    <tr>\n",
       "      <th>4</th>\n",
       "      <td>5</td>\n",
       "      <td>0</td>\n",
       "      <td>0</td>\n",
       "      <td>0</td>\n",
       "      <td>2</td>\n",
       "      <td>1</td>\n",
       "      <td>2</td>\n",
       "      <td>1</td>\n",
       "      <td>23420</td>\n",
       "      <td>1</td>\n",
       "      <td>10</td>\n",
       "      <td>2</td>\n",
       "      <td>4.0</td>\n",
       "      <td>0</td>\n",
       "      <td>3</td>\n",
       "      <td>0</td>\n",
       "      <td>1</td>\n",
       "      <td>0</td>\n",
       "      <td>0</td>\n",
       "    </tr>\n",
       "  </tbody>\n",
       "</table>\n",
       "</div>"
      ],
      "text/plain": [
       "   EmployeeID  Gender  MaritalStatus  Education  EducationField  Department  \\\n",
       "0           1       1              1          1               0           0   \n",
       "1           2       1              0          0               0           1   \n",
       "2           3       0              1          3               1           1   \n",
       "3           4       0              1          4               0           1   \n",
       "4           5       0              0          0               2           1   \n",
       "\n",
       "   JobRole  JobLevel  MonthlyIncome  BusinessTravel  DistanceFromHome  \\\n",
       "0        0         1         131160               1                 6   \n",
       "1        1         1          41890               2                10   \n",
       "2        2         4         193280               2                17   \n",
       "3        3         3          83210               0                 2   \n",
       "4        2         1          23420               1                10   \n",
       "\n",
       "   StockOptionLevel  NumCompaniesWorked  YearsSinceLastPromotion  \\\n",
       "0                 0                 1.0                        0   \n",
       "1                 1                 0.0                        1   \n",
       "2                 3                 1.0                        0   \n",
       "3                 3                 3.0                        7   \n",
       "4                 2                 4.0                        0   \n",
       "\n",
       "   EnvironmentSatisfaction  JobSatisfaction  WorkLifeBalance  \\\n",
       "0                        2                3                2   \n",
       "1                        2                1                3   \n",
       "2                        1                1                0   \n",
       "3                        3                3                1   \n",
       "4                        3                0                1   \n",
       "\n",
       "   PerformanceRating  Attrition  \n",
       "0                  0          0  \n",
       "1                  1          1  \n",
       "2                  0          0  \n",
       "3                  0          0  \n",
       "4                  0          0  "
      ]
     },
     "execution_count": 37,
     "metadata": {},
     "output_type": "execute_result"
    }
   ],
   "source": [
    "data.head()"
   ]
  },
  {
   "cell_type": "markdown",
   "metadata": {},
   "source": [
    "### IV.3 Export to CSV\n",
    "After doing modifications, the data will be saved as a new csv type file. This is done so it can be easily imported when it's going to be used in the next process which is model building."
   ]
  },
  {
   "cell_type": "code",
   "execution_count": 38,
   "metadata": {},
   "outputs": [],
   "source": [
    "data.to_csv('labeled_data.csv', index=False)"
   ]
  },
  {
   "cell_type": "code",
   "execution_count": null,
   "metadata": {},
   "outputs": [],
   "source": []
  }
 ],
 "metadata": {
  "kernelspec": {
   "display_name": "Python 3",
   "language": "python",
   "name": "python3"
  },
  "language_info": {
   "codemirror_mode": {
    "name": "ipython",
    "version": 3
   },
   "file_extension": ".py",
   "mimetype": "text/x-python",
   "name": "python",
   "nbconvert_exporter": "python",
   "pygments_lexer": "ipython3",
   "version": "3.7.6"
  }
 },
 "nbformat": 4,
 "nbformat_minor": 4
}
