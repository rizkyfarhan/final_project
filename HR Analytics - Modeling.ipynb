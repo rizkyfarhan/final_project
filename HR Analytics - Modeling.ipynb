{
 "cells": [
  {
   "cell_type": "markdown",
   "metadata": {},
   "source": [
    "# HR Analytics - Employee Attrition"
   ]
  },
  {
   "cell_type": "markdown",
   "metadata": {},
   "source": [
    "### Muhammad Rizky Farhan\n",
    "\n",
    "**Dataset:** HR Analytics Case Study | **Source:** [kaggle.com](https://www.kaggle.com/vjchoudhary7/hr-analytics-case-study?select=general_data.csv)"
   ]
  },
  {
   "cell_type": "markdown",
   "metadata": {},
   "source": [
    "**Problem**\n",
    "\n",
    "A large company named XYZ employs around 4000 employees. However, every year around 15% of it's employees leave the company and needs to be replaced. The management believes that this level of attrition (employees leaving) is bad for the company. Hence the management wanted to understand what factors they should focus on in order to make their employees stay and what factors need to be addressed right away.\n",
    "\n",
    "**Goal**\n",
    "\n",
    "Identify what are the most significant factors affecting attrition and making a model to predict new employees attrition."
   ]
  },
  {
   "cell_type": "markdown",
   "metadata": {},
   "source": [
    "### I. Importing Data & Library"
   ]
  },
  {
   "cell_type": "code",
   "execution_count": 1,
   "metadata": {},
   "outputs": [],
   "source": [
    "import numpy as np\n",
    "import pandas as pd\n",
    "import seaborn as sns\n",
    "import matplotlib.pyplot as plt\n",
    "%matplotlib inline"
   ]
  },
  {
   "cell_type": "code",
   "execution_count": 2,
   "metadata": {},
   "outputs": [],
   "source": [
    "from sklearn.model_selection import train_test_split, GridSearchCV\n",
    "from imblearn.over_sampling import SMOTE\n",
    "from sklearn.metrics import accuracy_score"
   ]
  },
  {
   "cell_type": "code",
   "execution_count": 3,
   "metadata": {},
   "outputs": [],
   "source": [
    "from sklearn.linear_model import LogisticRegression\n",
    "from sklearn.tree import DecisionTreeClassifier\n",
    "from sklearn.ensemble import RandomForestClassifier, AdaBoostClassifier, GradientBoostingClassifier\n",
    "from xgboost import XGBClassifier\n",
    "from sklearn.naive_bayes import GaussianNB\n",
    "from sklearn.neural_network import MLPClassifier\n",
    "from sklearn.svm import SVC\n",
    "from sklearn.neighbors import KNeighborsClassifier"
   ]
  },
  {
   "cell_type": "code",
   "execution_count": 4,
   "metadata": {},
   "outputs": [],
   "source": [
    "import joblib"
   ]
  },
  {
   "cell_type": "code",
   "execution_count": 5,
   "metadata": {},
   "outputs": [],
   "source": [
    "data = pd.read_csv('labeled_data.csv')"
   ]
  },
  {
   "cell_type": "code",
   "execution_count": 6,
   "metadata": {},
   "outputs": [
    {
     "data": {
      "text/html": [
       "<div>\n",
       "<style scoped>\n",
       "    .dataframe tbody tr th:only-of-type {\n",
       "        vertical-align: middle;\n",
       "    }\n",
       "\n",
       "    .dataframe tbody tr th {\n",
       "        vertical-align: top;\n",
       "    }\n",
       "\n",
       "    .dataframe thead th {\n",
       "        text-align: right;\n",
       "    }\n",
       "</style>\n",
       "<table border=\"1\" class=\"dataframe\">\n",
       "  <thead>\n",
       "    <tr style=\"text-align: right;\">\n",
       "      <th></th>\n",
       "      <th>EmployeeID</th>\n",
       "      <th>Gender</th>\n",
       "      <th>MaritalStatus</th>\n",
       "      <th>Education</th>\n",
       "      <th>EducationField</th>\n",
       "      <th>Department</th>\n",
       "      <th>JobRole</th>\n",
       "      <th>JobLevel</th>\n",
       "      <th>MonthlyIncome</th>\n",
       "      <th>BusinessTravel</th>\n",
       "      <th>DistanceFromHome</th>\n",
       "      <th>StockOptionLevel</th>\n",
       "      <th>NumCompaniesWorked</th>\n",
       "      <th>YearsSinceLastPromotion</th>\n",
       "      <th>EnvironmentSatisfaction</th>\n",
       "      <th>JobSatisfaction</th>\n",
       "      <th>WorkLifeBalance</th>\n",
       "      <th>PerformanceRating</th>\n",
       "      <th>Attrition</th>\n",
       "    </tr>\n",
       "  </thead>\n",
       "  <tbody>\n",
       "    <tr>\n",
       "      <th>0</th>\n",
       "      <td>1</td>\n",
       "      <td>1</td>\n",
       "      <td>1</td>\n",
       "      <td>1</td>\n",
       "      <td>0</td>\n",
       "      <td>0</td>\n",
       "      <td>0</td>\n",
       "      <td>1</td>\n",
       "      <td>131160</td>\n",
       "      <td>1</td>\n",
       "      <td>6</td>\n",
       "      <td>0</td>\n",
       "      <td>1.0</td>\n",
       "      <td>0</td>\n",
       "      <td>2</td>\n",
       "      <td>3</td>\n",
       "      <td>2</td>\n",
       "      <td>0</td>\n",
       "      <td>0</td>\n",
       "    </tr>\n",
       "    <tr>\n",
       "      <th>1</th>\n",
       "      <td>2</td>\n",
       "      <td>1</td>\n",
       "      <td>0</td>\n",
       "      <td>0</td>\n",
       "      <td>0</td>\n",
       "      <td>1</td>\n",
       "      <td>1</td>\n",
       "      <td>1</td>\n",
       "      <td>41890</td>\n",
       "      <td>2</td>\n",
       "      <td>10</td>\n",
       "      <td>1</td>\n",
       "      <td>0.0</td>\n",
       "      <td>1</td>\n",
       "      <td>2</td>\n",
       "      <td>1</td>\n",
       "      <td>3</td>\n",
       "      <td>1</td>\n",
       "      <td>1</td>\n",
       "    </tr>\n",
       "    <tr>\n",
       "      <th>2</th>\n",
       "      <td>3</td>\n",
       "      <td>0</td>\n",
       "      <td>1</td>\n",
       "      <td>3</td>\n",
       "      <td>1</td>\n",
       "      <td>1</td>\n",
       "      <td>2</td>\n",
       "      <td>4</td>\n",
       "      <td>193280</td>\n",
       "      <td>2</td>\n",
       "      <td>17</td>\n",
       "      <td>3</td>\n",
       "      <td>1.0</td>\n",
       "      <td>0</td>\n",
       "      <td>1</td>\n",
       "      <td>1</td>\n",
       "      <td>0</td>\n",
       "      <td>0</td>\n",
       "      <td>0</td>\n",
       "    </tr>\n",
       "    <tr>\n",
       "      <th>3</th>\n",
       "      <td>4</td>\n",
       "      <td>0</td>\n",
       "      <td>1</td>\n",
       "      <td>4</td>\n",
       "      <td>0</td>\n",
       "      <td>1</td>\n",
       "      <td>3</td>\n",
       "      <td>3</td>\n",
       "      <td>83210</td>\n",
       "      <td>0</td>\n",
       "      <td>2</td>\n",
       "      <td>3</td>\n",
       "      <td>3.0</td>\n",
       "      <td>7</td>\n",
       "      <td>3</td>\n",
       "      <td>3</td>\n",
       "      <td>1</td>\n",
       "      <td>0</td>\n",
       "      <td>0</td>\n",
       "    </tr>\n",
       "    <tr>\n",
       "      <th>4</th>\n",
       "      <td>5</td>\n",
       "      <td>0</td>\n",
       "      <td>0</td>\n",
       "      <td>0</td>\n",
       "      <td>2</td>\n",
       "      <td>1</td>\n",
       "      <td>2</td>\n",
       "      <td>1</td>\n",
       "      <td>23420</td>\n",
       "      <td>1</td>\n",
       "      <td>10</td>\n",
       "      <td>2</td>\n",
       "      <td>4.0</td>\n",
       "      <td>0</td>\n",
       "      <td>3</td>\n",
       "      <td>0</td>\n",
       "      <td>1</td>\n",
       "      <td>0</td>\n",
       "      <td>0</td>\n",
       "    </tr>\n",
       "  </tbody>\n",
       "</table>\n",
       "</div>"
      ],
      "text/plain": [
       "   EmployeeID  Gender  MaritalStatus  Education  EducationField  Department  \\\n",
       "0           1       1              1          1               0           0   \n",
       "1           2       1              0          0               0           1   \n",
       "2           3       0              1          3               1           1   \n",
       "3           4       0              1          4               0           1   \n",
       "4           5       0              0          0               2           1   \n",
       "\n",
       "   JobRole  JobLevel  MonthlyIncome  BusinessTravel  DistanceFromHome  \\\n",
       "0        0         1         131160               1                 6   \n",
       "1        1         1          41890               2                10   \n",
       "2        2         4         193280               2                17   \n",
       "3        3         3          83210               0                 2   \n",
       "4        2         1          23420               1                10   \n",
       "\n",
       "   StockOptionLevel  NumCompaniesWorked  YearsSinceLastPromotion  \\\n",
       "0                 0                 1.0                        0   \n",
       "1                 1                 0.0                        1   \n",
       "2                 3                 1.0                        0   \n",
       "3                 3                 3.0                        7   \n",
       "4                 2                 4.0                        0   \n",
       "\n",
       "   EnvironmentSatisfaction  JobSatisfaction  WorkLifeBalance  \\\n",
       "0                        2                3                2   \n",
       "1                        2                1                3   \n",
       "2                        1                1                0   \n",
       "3                        3                3                1   \n",
       "4                        3                0                1   \n",
       "\n",
       "   PerformanceRating  Attrition  \n",
       "0                  0          0  \n",
       "1                  1          1  \n",
       "2                  0          0  \n",
       "3                  0          0  \n",
       "4                  0          0  "
      ]
     },
     "execution_count": 6,
     "metadata": {},
     "output_type": "execute_result"
    }
   ],
   "source": [
    "data.head()"
   ]
  },
  {
   "cell_type": "markdown",
   "metadata": {},
   "source": [
    "### II. Model Building\n",
    "In this process, we will go through several steps to find the optimal model to predict and rank the importance between features that are going to be analyzed. As been decided before, the train data or x will include all the features except `EmployeeID` and `Attrition`. The target or y will be `Attrition`."
   ]
  },
  {
   "cell_type": "code",
   "execution_count": 7,
   "metadata": {},
   "outputs": [],
   "source": [
    "x = data.drop(['EmployeeID', 'Attrition'], axis = 1)\n",
    "y = data['Attrition']"
   ]
  },
  {
   "cell_type": "code",
   "execution_count": 8,
   "metadata": {},
   "outputs": [
    {
     "data": {
      "text/plain": [
       "0    3605\n",
       "1     695\n",
       "Name: Attrition, dtype: int64"
      ]
     },
     "execution_count": 8,
     "metadata": {},
     "output_type": "execute_result"
    }
   ],
   "source": [
    "y.value_counts()"
   ]
  },
  {
   "cell_type": "markdown",
   "metadata": {},
   "source": [
    "### II.1 Data Splitting"
   ]
  },
  {
   "cell_type": "markdown",
   "metadata": {},
   "source": [
    "First, the data will have to be split into 2 subsets which are train data and test data. As the name implies the data will be used for different purpose which are training and testing. The testing subset is for building the model and the testing subset is used for the model on unknown data to evaluate the performance of the model."
   ]
  },
  {
   "cell_type": "code",
   "execution_count": 9,
   "metadata": {},
   "outputs": [],
   "source": [
    "xtrain, xtest, ytrain, ytest = train_test_split(x, y, test_size = 0.30, random_state = 101)"
   ]
  },
  {
   "cell_type": "markdown",
   "metadata": {},
   "source": [
    "Since the goal of this study is to predict and rank the feature importance of a binary target which have a value of Yes or No, classification algorithms will be used for our model. In this study there will be 10 classification that are going to be used. The models are:\n",
    "\n",
    "1. Logistic Regression\n",
    "2. Decision Tree\n",
    "3. Random Forest\n",
    "4. Ada Boosting\n",
    "5. Gradient Boosting\n",
    "6. Extreme Gradient Boosting\n",
    "7. Naive-Bayes\n",
    "8. Multi-Layer Perceptron\n",
    "9. Support Vector\n",
    "10. K-Nearest Neighbor\n",
    "\n",
    "The steps that are going to be used in building the model are:\n",
    "1. Make hyperparameter grid for each model\n",
    "2. Do hyperparameter tuning using GridSearchCV as well as calculating best score for each model\n",
    "3. Compare best scores and choosing the best model\n",
    "4. Oversample the data with SMOTE\n",
    "5. Compare the results between original and oversampled data\n",
    "6. Decide on the final model\n",
    "7. Rank feature importances\n",
    "8. Choose the most significant features\n",
    "9. Build final model with chosen features"
   ]
  },
  {
   "cell_type": "markdown",
   "metadata": {},
   "source": [
    "### II.2 Initiating Models and Parameters"
   ]
  },
  {
   "cell_type": "code",
   "execution_count": 10,
   "metadata": {},
   "outputs": [],
   "source": [
    "RS = 101\n",
    "MODELS = [\n",
    "    LogisticRegression(random_state = RS),\n",
    "    DecisionTreeClassifier(random_state = RS),\n",
    "    AdaBoostClassifier(base_estimator = DecisionTreeClassifier(random_state = RS), algorithm = 'SAMME',random_state = RS),\n",
    "    GradientBoostingClassifier(random_state = RS),\n",
    "    XGBClassifier(random_state = RS),\n",
    "    RandomForestClassifier(random_state = RS),\n",
    "    AdaBoostClassifier(base_estimator = RandomForestClassifier(random_state = RS), algorithm='SAMME', random_state = RS),\n",
    "    GaussianNB(),\n",
    "    KNeighborsClassifier(),\n",
    "    SVC(random_state = RS, probability = True),\n",
    "    MLPClassifier(random_state = RS)\n",
    "]\n",
    "\n",
    "NAMES = [\n",
    "    'Logistic',\n",
    "    'Decision Tree',\n",
    "    'DT - AdaBoost',\n",
    "    'Gradient Boost',\n",
    "    'XGBoost',\n",
    "    'Random Forest Classifier',\n",
    "    'RFC - AdaBoost',\n",
    "    'GaussianNB',\n",
    "    'KNN',\n",
    "    'SVC',\n",
    "    'Multi-Layer Perceptron'\n",
    "]"
   ]
  },
  {
   "cell_type": "code",
   "execution_count": 11,
   "metadata": {},
   "outputs": [],
   "source": [
    "logreg_params= {\n",
    "    \"C\": np.logspace(-1, 1, 10),\n",
    "    \"solver\":['lbfgs', 'liblinear', 'sag', 'saga'],\n",
    "    \"max_iter\":[1000]\n",
    "}\n",
    "\n",
    "dtree_params = {\n",
    "    \"min_samples_split\" : range(10,500,20),\n",
    "    \"max_depth\": np.linspace(1,20,4)\n",
    "}\n",
    "\n",
    "ada_param = {\n",
    "    \"n_estimators\" : [10,20,40],\n",
    "    \"learning_rate\" : np.linspace(0.01,0.1,5)\n",
    "}\n",
    "\n",
    "gb_param = {\n",
    "    \"n_estimators\" : [10,20,40],\n",
    "    \"learning_rate\" : np.linspace(0.01,0.1,5)\n",
    "}\n",
    "            \n",
    "xgb_params = {\n",
    "    \"n_estimators\": [10, 20, 40],\n",
    "    \"subsample\": [ 0.6, 0.8, 1.0],\n",
    "    \"max_depth\": [1,2,3,4],\n",
    "    \"learning_rate\": [0.1,0.2, 0.3, 0.4, 0.5]\n",
    "}\n",
    "\n",
    "rfc_params = {\n",
    "    \"min_samples_split\" : range(10,500,20),\n",
    "    \"max_depth\": np.linspace(1,20,4)\n",
    "}\n",
    "\n",
    "ada_rfc_param = {\n",
    "    \"n_estimators\" : [10,20,40],\n",
    "    \"learning_rate\" : np.linspace(0.01,0.1,5)\n",
    "}\n",
    "\n",
    "NB_params = {\n",
    "    \"var_smoothing\": np.logspace(0,-9, num=100)\n",
    "}\n",
    "\n",
    "knn_params= {\n",
    "    \"n_neighbors\": np.linspace(1,19,10, dtype = int).tolist(),\n",
    "    \"weights\": [\"uniform\",\"distance\"],\n",
    "    \"metric\": [\"euclidean\",\"manhattan\"]\n",
    "}\n",
    "\n",
    "svc_params= {\n",
    "    \"kernel\" : [\"rbf\"],\n",
    "    \"gamma\": [0.1, 1, 5, 10],\n",
    "    \"C\": [1,10,50,100]\n",
    "}\n",
    "\n",
    "mlpc_params = {\n",
    "    \"alpha\": [0.1, 0.05, 0.01],\n",
    "    \"hidden_layer_sizes\": [(10,10,10),(100,100,100),(100,100)],\n",
    "    \"solver\" : [\"lbfgs\",\"adam\",\"sgd\"],\n",
    "    \"max_iter\":[1000]\n",
    "}\n",
    "\n",
    "PARAMS = [\n",
    "    logreg_params,\n",
    "    dtree_params,\n",
    "    ada_param,\n",
    "    gb_param,\n",
    "    xgb_params,\n",
    "    rfc_params,\n",
    "    ada_rfc_param,\n",
    "    NB_params,\n",
    "    knn_params,\n",
    "    svc_params,\n",
    "    mlpc_params\n",
    "]"
   ]
  },
  {
   "cell_type": "markdown",
   "metadata": {},
   "source": [
    "### II.3 Hyperparameter Tuning and Calculating Best Score"
   ]
  },
  {
   "cell_type": "code",
   "execution_count": 12,
   "metadata": {},
   "outputs": [
    {
     "name": "stdout",
     "output_type": "stream",
     "text": [
      "Logistic best score: 0.841860465116279\n",
      "Decision Tree best score: 0.9056478405315614\n",
      "DT - AdaBoost best score: 0.9634551495016612\n",
      "Gradient Boost best score: 0.8534883720930233\n",
      "XGBoost best score: 0.9308970099667775\n",
      "Random Forest Classifier best score: 0.9186046511627908\n",
      "RFC - AdaBoost best score: 0.9790697674418606\n",
      "GaussianNB best score: 0.841860465116279\n",
      "KNN best score: 0.9757475083056478\n",
      "SVC best score: 0.9780730897009967\n",
      "Multi-Layer Perceptron best score: 0.841860465116279\n",
      "\n",
      "Highest best score: 0.9790697674418606 (RFC - AdaBoost)\n"
     ]
    },
    {
     "name": "stderr",
     "output_type": "stream",
     "text": [
      "/opt/anaconda3/lib/python3.7/site-packages/sklearn/neural_network/_multilayer_perceptron.py:471: ConvergenceWarning: lbfgs failed to converge (status=2):\n",
      "ABNORMAL_TERMINATION_IN_LNSRCH.\n",
      "\n",
      "Increase the number of iterations (max_iter) or scale the data as shown in:\n",
      "    https://scikit-learn.org/stable/modules/preprocessing.html\n",
      "  self.n_iter_ = _check_optimize_result(\"lbfgs\", opt_res, self.max_iter)\n"
     ]
    }
   ],
   "source": [
    "scores = []\n",
    "cv_result = {}\n",
    "best_estimators = {}\n",
    "for name, model,classifier_param in zip(NAMES, MODELS, PARAMS):\n",
    "    clf = GridSearchCV(model, param_grid = classifier_param, cv = 10, scoring = \"accuracy\", n_jobs = -1,verbose = False)\n",
    "    clf.fit(xtrain,ytrain)\n",
    "    cv_result[name] = clf.best_score_\n",
    "    scores.append(cv_result[name])\n",
    "    best_estimators[name] = clf.best_estimator_\n",
    "    print(name + ' best score: ' + str(cv_result[name]))\n",
    "print('\\nHighest best score: ' + str(max(scores)) + ' (' + NAMES[scores.index(max(scores))] + ')')"
   ]
  },
  {
   "cell_type": "markdown",
   "metadata": {},
   "source": [
    "By comparing the best score for each model, it is found that **Random Forest Classifier with AdaBoosting** has the highest score with the value of **97,9%**."
   ]
  },
  {
   "cell_type": "markdown",
   "metadata": {},
   "source": [
    "### II.4 Oversampling with SMOTE\n",
    "Checking the value count of the target variable, it is considered that the data is imbalance where the proportion of the value 0 is much more than the 1 value. In order to balance the data, oversampling is going to be used. Oversampling will be done using SMOTE technique, where the minority class will be duplicated to the same number of samples."
   ]
  },
  {
   "cell_type": "code",
   "execution_count": 13,
   "metadata": {},
   "outputs": [
    {
     "data": {
      "text/plain": [
       "0    3605\n",
       "1     695\n",
       "Name: Attrition, dtype: int64"
      ]
     },
     "execution_count": 13,
     "metadata": {},
     "output_type": "execute_result"
    }
   ],
   "source": [
    "y.value_counts()"
   ]
  },
  {
   "cell_type": "code",
   "execution_count": 14,
   "metadata": {},
   "outputs": [],
   "source": [
    "sm = SMOTE(random_state = 101)\n",
    "os_xtrain, os_ytrain = sm.fit_sample(xtrain, ytrain)\n",
    "os_train = pd.concat([pd.DataFrame(os_ytrain), pd.DataFrame(os_xtrain)], axis=1)"
   ]
  },
  {
   "cell_type": "code",
   "execution_count": 15,
   "metadata": {},
   "outputs": [
    {
     "data": {
      "text/plain": [
       "1    2534\n",
       "0    2534\n",
       "Name: Attrition, dtype: int64"
      ]
     },
     "execution_count": 15,
     "metadata": {},
     "output_type": "execute_result"
    }
   ],
   "source": [
    "pd.Series(os_ytrain).value_counts()"
   ]
  },
  {
   "cell_type": "code",
   "execution_count": 16,
   "metadata": {},
   "outputs": [
    {
     "name": "stdout",
     "output_type": "stream",
     "text": [
      " best score after oversampling: 0.9806663236429122\n"
     ]
    }
   ],
   "source": [
    "model = AdaBoostClassifier(base_estimator = RandomForestClassifier(random_state = RS), algorithm='SAMME', random_state = RS)\n",
    "classifier_param = {\n",
    "    \"n_estimators\" : [10,20,40],\n",
    "    \"learning_rate\" : np.linspace(0.01,0.1,5)\n",
    "}\n",
    "\n",
    "clf = GridSearchCV(model, param_grid=classifier_param, cv = 10, scoring = \"accuracy\", n_jobs = -1,verbose = False)\n",
    "clf.fit(os_xtrain,os_ytrain)\n",
    "print(' best score after oversampling: ' + str(clf.best_score_))"
   ]
  },
  {
   "cell_type": "code",
   "execution_count": 17,
   "metadata": {},
   "outputs": [
    {
     "data": {
      "text/plain": [
       "{'learning_rate': 0.01, 'n_estimators': 10}"
      ]
     },
     "execution_count": 17,
     "metadata": {},
     "output_type": "execute_result"
    }
   ],
   "source": [
    "clf.best_params_"
   ]
  },
  {
   "cell_type": "markdown",
   "metadata": {},
   "source": [
    "After oversampling the data, the model is once again checked with the same model which is Random Forest Classifier with AdaBoosting. The result of oversampling made the accuracy go up by **0,001596556201**."
   ]
  },
  {
   "cell_type": "markdown",
   "metadata": {},
   "source": [
    "### II.5 Ranking Feature Importance\n",
    "To accomplish our goal and identify what factors that the employee have to focus on and address, we will be ranking the feature importance of the data. Feature importance is a tehcnique that assign a score to input features based on how useful they are at predicting a target variable."
   ]
  },
  {
   "cell_type": "code",
   "execution_count": 18,
   "metadata": {},
   "outputs": [
    {
     "name": "stdout",
     "output_type": "stream",
     "text": [
      "[0.02776959 0.10653486 0.05490095 0.04775278 0.02712815 0.06305641\n",
      " 0.04333077 0.12711377 0.02522622 0.08294278 0.03851002 0.09815367\n",
      " 0.0538833  0.06700671 0.07875248 0.04048922 0.01744831]\n"
     ]
    }
   ],
   "source": [
    "rfc_ada_smote = AdaBoostClassifier(base_estimator = RandomForestClassifier(random_state = 101), learning_rate = 0.01, n_estimators = 10, algorithm='SAMME', random_state = 101)\n",
    "rfc_ada_smote.fit(os_xtrain, os_ytrain)\n",
    "print(rfc_ada_smote.feature_importances_)"
   ]
  },
  {
   "cell_type": "code",
   "execution_count": 19,
   "metadata": {
    "scrolled": false
   },
   "outputs": [
    {
     "data": {
      "text/html": [
       "<div>\n",
       "<style scoped>\n",
       "    .dataframe tbody tr th:only-of-type {\n",
       "        vertical-align: middle;\n",
       "    }\n",
       "\n",
       "    .dataframe tbody tr th {\n",
       "        vertical-align: top;\n",
       "    }\n",
       "\n",
       "    .dataframe thead th {\n",
       "        text-align: right;\n",
       "    }\n",
       "</style>\n",
       "<table border=\"1\" class=\"dataframe\">\n",
       "  <thead>\n",
       "    <tr style=\"text-align: right;\">\n",
       "      <th></th>\n",
       "      <th>kolom</th>\n",
       "      <th>importances</th>\n",
       "    </tr>\n",
       "  </thead>\n",
       "  <tbody>\n",
       "    <tr>\n",
       "      <th>0</th>\n",
       "      <td>Gender</td>\n",
       "      <td>0.027770</td>\n",
       "    </tr>\n",
       "    <tr>\n",
       "      <th>1</th>\n",
       "      <td>MaritalStatus</td>\n",
       "      <td>0.106535</td>\n",
       "    </tr>\n",
       "    <tr>\n",
       "      <th>2</th>\n",
       "      <td>Education</td>\n",
       "      <td>0.054901</td>\n",
       "    </tr>\n",
       "    <tr>\n",
       "      <th>3</th>\n",
       "      <td>EducationField</td>\n",
       "      <td>0.047753</td>\n",
       "    </tr>\n",
       "    <tr>\n",
       "      <th>4</th>\n",
       "      <td>Department</td>\n",
       "      <td>0.027128</td>\n",
       "    </tr>\n",
       "    <tr>\n",
       "      <th>5</th>\n",
       "      <td>JobRole</td>\n",
       "      <td>0.063056</td>\n",
       "    </tr>\n",
       "    <tr>\n",
       "      <th>6</th>\n",
       "      <td>JobLevel</td>\n",
       "      <td>0.043331</td>\n",
       "    </tr>\n",
       "    <tr>\n",
       "      <th>7</th>\n",
       "      <td>MonthlyIncome</td>\n",
       "      <td>0.127114</td>\n",
       "    </tr>\n",
       "    <tr>\n",
       "      <th>8</th>\n",
       "      <td>BusinessTravel</td>\n",
       "      <td>0.025226</td>\n",
       "    </tr>\n",
       "    <tr>\n",
       "      <th>9</th>\n",
       "      <td>DistanceFromHome</td>\n",
       "      <td>0.082943</td>\n",
       "    </tr>\n",
       "    <tr>\n",
       "      <th>10</th>\n",
       "      <td>StockOptionLevel</td>\n",
       "      <td>0.038510</td>\n",
       "    </tr>\n",
       "    <tr>\n",
       "      <th>11</th>\n",
       "      <td>NumCompaniesWorked</td>\n",
       "      <td>0.098154</td>\n",
       "    </tr>\n",
       "    <tr>\n",
       "      <th>12</th>\n",
       "      <td>YearsSinceLastPromotion</td>\n",
       "      <td>0.053883</td>\n",
       "    </tr>\n",
       "    <tr>\n",
       "      <th>13</th>\n",
       "      <td>EnvironmentSatisfaction</td>\n",
       "      <td>0.067007</td>\n",
       "    </tr>\n",
       "    <tr>\n",
       "      <th>14</th>\n",
       "      <td>JobSatisfaction</td>\n",
       "      <td>0.078752</td>\n",
       "    </tr>\n",
       "    <tr>\n",
       "      <th>15</th>\n",
       "      <td>WorkLifeBalance</td>\n",
       "      <td>0.040489</td>\n",
       "    </tr>\n",
       "    <tr>\n",
       "      <th>16</th>\n",
       "      <td>PerformanceRating</td>\n",
       "      <td>0.017448</td>\n",
       "    </tr>\n",
       "  </tbody>\n",
       "</table>\n",
       "</div>"
      ],
      "text/plain": [
       "                      kolom  importances\n",
       "0                    Gender     0.027770\n",
       "1             MaritalStatus     0.106535\n",
       "2                 Education     0.054901\n",
       "3            EducationField     0.047753\n",
       "4                Department     0.027128\n",
       "5                   JobRole     0.063056\n",
       "6                  JobLevel     0.043331\n",
       "7             MonthlyIncome     0.127114\n",
       "8            BusinessTravel     0.025226\n",
       "9          DistanceFromHome     0.082943\n",
       "10         StockOptionLevel     0.038510\n",
       "11       NumCompaniesWorked     0.098154\n",
       "12  YearsSinceLastPromotion     0.053883\n",
       "13  EnvironmentSatisfaction     0.067007\n",
       "14          JobSatisfaction     0.078752\n",
       "15          WorkLifeBalance     0.040489\n",
       "16        PerformanceRating     0.017448"
      ]
     },
     "execution_count": 19,
     "metadata": {},
     "output_type": "execute_result"
    }
   ],
   "source": [
    "feature = pd.DataFrame()\n",
    "feature['kolom'] = x.columns\n",
    "feature['importances'] = rfc_ada_smote.feature_importances_\n",
    "feature"
   ]
  },
  {
   "cell_type": "code",
   "execution_count": 20,
   "metadata": {},
   "outputs": [
    {
     "data": {
      "text/plain": [
       "<Figure size 1080x1080 with 0 Axes>"
      ]
     },
     "metadata": {},
     "output_type": "display_data"
    },
    {
     "data": {
      "image/png": "[encoded data removed]",
      "text/plain": [
       "<Figure size 360x360 with 1 Axes>"
      ]
     },
     "metadata": {
      "needs_background": "light"
     },
     "output_type": "display_data"
    }
   ],
   "source": [
    "plt.figure(figsize=(15,15))\n",
    "sns.catplot(y = 'kolom', x = 'importances', data = feature.sort_values(by = 'importances' , ascending = False), kind= 'bar')\n",
    "plt.tight_layout()"
   ]
  },
  {
   "cell_type": "markdown",
   "metadata": {},
   "source": [
    "By looking at the graph above, we can see how much each of the feature affects the model prediction. `MonthlyIncome` is identified to be the most useful feature while `PerformanceRating` is identified to be the least useful. In the actual application, it is almost impossible to address all of these features as it will need a lot of resources and time. So to make the improvement more feasible and more effective it is best to focus on the most important features. The **top 5 feature** is decided to be the most important feature and will be chosen as the focus."
   ]
  },
  {
   "cell_type": "markdown",
   "metadata": {},
   "source": [
    "### II.5 Final Model with Chosen Features\n",
    "After choosing the most important feature, the model building process is repeated by using the same process but only using 5 features that are chosen."
   ]
  },
  {
   "cell_type": "code",
   "execution_count": 7,
   "metadata": {},
   "outputs": [],
   "source": [
    "new_x = data[['MonthlyIncome', 'MaritalStatus', 'NumCompaniesWorked', 'DistanceFromHome', 'JobSatisfaction']]\n",
    "new_y = data['Attrition']"
   ]
  },
  {
   "cell_type": "code",
   "execution_count": 8,
   "metadata": {},
   "outputs": [],
   "source": [
    "new_xtrain, new_xtest, new_ytrain, new_ytest = train_test_split(new_x, new_y, test_size = 0.30, random_state = 101)"
   ]
  },
  {
   "cell_type": "code",
   "execution_count": 23,
   "metadata": {},
   "outputs": [
    {
     "name": "stdout",
     "output_type": "stream",
     "text": [
      "Logistic best score: 0.841860465116279\n",
      "Decision Tree best score: 0.888704318936877\n",
      "DT - AdaBoost best score: 0.9641196013289038\n",
      "Gradient Boost best score: 0.8488372093023255\n",
      "XGBoost best score: 0.8840531561461795\n",
      "Random Forest Classifier best score: 0.9013289036544851\n"
     ]
    },
    {
     "name": "stderr",
     "output_type": "stream",
     "text": [
      "/opt/anaconda3/lib/python3.7/site-packages/joblib/externals/loky/process_executor.py:706: UserWarning: A worker stopped while some jobs were given to the executor. This can be caused by a too short worker timeout or by a memory leak.\n",
      "  \"timeout or by a memory leak.\", UserWarning\n"
     ]
    },
    {
     "name": "stdout",
     "output_type": "stream",
     "text": [
      "RFC - AdaBoost best score: 0.9740863787375416\n",
      "GaussianNB best score: 0.841860465116279\n",
      "KNN best score: 0.9727574750830564\n",
      "SVC best score: 0.9767441860465118\n",
      "Multi-Layer Perceptron best score: 0.841860465116279\n",
      "\n",
      "Highest best score: 0.9767441860465118 (SVC)\n"
     ]
    },
    {
     "name": "stderr",
     "output_type": "stream",
     "text": [
      "/opt/anaconda3/lib/python3.7/site-packages/sklearn/neural_network/_multilayer_perceptron.py:471: ConvergenceWarning: lbfgs failed to converge (status=2):\n",
      "ABNORMAL_TERMINATION_IN_LNSRCH.\n",
      "\n",
      "Increase the number of iterations (max_iter) or scale the data as shown in:\n",
      "    https://scikit-learn.org/stable/modules/preprocessing.html\n",
      "  self.n_iter_ = _check_optimize_result(\"lbfgs\", opt_res, self.max_iter)\n"
     ]
    }
   ],
   "source": [
    "new_scores = []\n",
    "new_cv_result = {}\n",
    "new_best_estimators = {}\n",
    "for name, model,classifier_param in zip(NAMES, MODELS, PARAMS):\n",
    "    new_clf = GridSearchCV(model, param_grid = classifier_param, cv = 10, scoring = \"accuracy\", n_jobs = 2,verbose = False)\n",
    "    new_clf.fit(new_xtrain,new_ytrain)\n",
    "    new_cv_result[name] = new_clf.best_score_\n",
    "    new_scores.append(new_cv_result[name])\n",
    "    new_best_estimators[name] = new_clf.best_estimator_\n",
    "    print(name + ' best score: ' + str(new_cv_result[name]))\n",
    "print('\\nHighest best score: ' + str(max(new_scores)) + ' (' + NAMES[new_scores.index(max(new_scores))] + ')')"
   ]
  },
  {
   "cell_type": "code",
   "execution_count": 31,
   "metadata": {},
   "outputs": [
    {
     "data": {
      "text/plain": [
       "SVC(C=1, gamma=1, probability=True, random_state=101)"
      ]
     },
     "execution_count": 31,
     "metadata": {},
     "output_type": "execute_result"
    }
   ],
   "source": [
    "new_best_estimators['SVC']"
   ]
  },
  {
   "cell_type": "markdown",
   "metadata": {},
   "source": [
    "In this new model **Support Vector Classifier** is chosen with a best score of **97,7%**."
   ]
  },
  {
   "cell_type": "code",
   "execution_count": 24,
   "metadata": {},
   "outputs": [],
   "source": [
    "sm = SMOTE(random_state = 101)\n",
    "new_os_xtrain, new_os_ytrain = sm.fit_sample(new_xtrain, new_ytrain)\n",
    "new_os_train = pd.concat([pd.DataFrame(new_os_ytrain), pd.DataFrame(new_os_xtrain)], axis=1)"
   ]
  },
  {
   "cell_type": "code",
   "execution_count": 25,
   "metadata": {},
   "outputs": [
    {
     "name": "stdout",
     "output_type": "stream",
     "text": [
      " best score after oversampling: 0.9267948328148996\n"
     ]
    }
   ],
   "source": [
    "new_os_model = SVC(random_state = 101, probability = True)\n",
    "new_os_classifier_param = {\n",
    "    \"kernel\" : [\"rbf\"],\n",
    "    \"gamma\": [0.1, 1, 5, 10],\n",
    "    \"C\": [1,10,50,100]\n",
    "}\n",
    "\n",
    "new_os_clf = GridSearchCV(new_os_model, param_grid= new_os_classifier_param, cv = 10, scoring = \"accuracy\", n_jobs = -1,verbose = False)\n",
    "new_os_clf.fit(new_os_xtrain,new_os_ytrain)\n",
    "print(' best score after oversampling: ' + str(new_os_clf.best_score_))"
   ]
  },
  {
   "cell_type": "markdown",
   "metadata": {},
   "source": [
    "Oversampling is also used in this new model, but it turns out that it results in lower best score with a value of **92,7%**. This lower score can be caused by overfitting the model or by the nature that Support Vector Classifier is really affected by the change of number in samples."
   ]
  },
  {
   "cell_type": "markdown",
   "metadata": {},
   "source": [
    "### II.6 Joblib\n",
    "After optimizing and finding the best model, the last step is to save the model using joblib. The model is needed to be saved into joblib so it can be used in the next process. The model chosen is the **Support Vector Classifier** without oversampling."
   ]
  },
  {
   "cell_type": "code",
   "execution_count": 9,
   "metadata": {},
   "outputs": [
    {
     "data": {
      "text/plain": [
       "SVC(C=1, gamma=1, probability=True, random_state=101)"
      ]
     },
     "execution_count": 9,
     "metadata": {},
     "output_type": "execute_result"
    }
   ],
   "source": [
    "final_model = SVC(C = 1, gamma = 1, kernel = 'rbf', random_state = 101, probability = True)\n",
    "final_model.fit(new_xtrain,new_ytrain)"
   ]
  },
  {
   "cell_type": "code",
   "execution_count": 10,
   "metadata": {},
   "outputs": [
    {
     "data": {
      "text/plain": [
       "['svc_final']"
      ]
     },
     "execution_count": 10,
     "metadata": {},
     "output_type": "execute_result"
    }
   ],
   "source": [
    "joblib.dump(final_model, 'svc_final')"
   ]
  },
  {
   "cell_type": "code",
   "execution_count": null,
   "metadata": {},
   "outputs": [],
   "source": []
  }
 ],
 "metadata": {
  "kernelspec": {
   "display_name": "Python 3",
   "language": "python",
   "name": "python3"
  },
  "language_info": {
   "codemirror_mode": {
    "name": "ipython",
    "version": 3
   },
   "file_extension": ".py",
   "mimetype": "text/x-python",
   "name": "python",
   "nbconvert_exporter": "python",
   "pygments_lexer": "ipython3",
   "version": "3.7.6"
  }
 },
 "nbformat": 4,
 "nbformat_minor": 4
}
